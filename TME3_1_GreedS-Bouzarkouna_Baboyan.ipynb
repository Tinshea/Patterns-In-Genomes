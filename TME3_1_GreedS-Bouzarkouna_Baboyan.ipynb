{
  "cells": [
    {
      "attachments": {},
      "cell_type": "markdown",
      "metadata": {
        "id": "981-NdKA_huf"
      },
      "source": [
        "# TME 3.1 : Greedy Profile Motif Search \n",
        "\n",
        "\n",
        "## Recheche de pattern (motifs) en utilisant les algoritmes randomisés\n",
        "\n",
        "Les algorithmes randomisés prendre des décisions aléatoire plutôt que déterministes.\n",
        "l'algorithme s'exécute différemment à chaque fois. Ils sont couramment utilisés dans situations où aucun algorithme exact et rapide est connu. Nous allons d'abord implémenter l'algorithm Greedy Profile Motif Search.\n"
      ]
    },
    {
      "attachments": {},
      "cell_type": "markdown",
      "metadata": {
        "id": "5z3a_1W0_huk"
      },
      "source": [
        "1\\. Nous allons réutiliser les fonctions du precedent pour générer `t` séquences artificielles de taille `n`, et implanter dans chaque séquence un motif de taille `k` à des positions aléatoires avec `v` substitutions choisies aléatoirement. Nous allons faire varier le motifs dans 50% de cas."
      ]
    },
    {
      "cell_type": "code",
      "execution_count": 57,
      "metadata": {
        "id": "6UbcF5N2_hul"
      },
      "outputs": [],
      "source": [
        "import random\n",
        "import numpy as np\n",
        "import math\n",
        "\n",
        "nuc = ('A', 'C', 'G', 'T')\n",
        "\n",
        "k=5 #taille de motif\n",
        "v=1 #nb de positions variable dans le motif\n",
        "t=3 #nb de sequences\n",
        "n=10 #longuer des sequence\n",
        "f= 0.5 #frequence de variation du motif.\n"
      ]
    },
    {
      "cell_type": "code",
      "execution_count": 58,
      "metadata": {
        "id": "IplKLaGL_hun"
      },
      "outputs": [
        {
          "name": "stdout",
          "output_type": "stream",
          "text": [
            "aag\n",
            "agttt\n",
            "['cggaaagttg', 'ttaagttttt', 'gaatttttgt', 'gagtttgaaa', 'gttagagttt', 'gtttg', 'taacg', 'cgggt', 'tacgc', 'gctgc']\n",
            "['CGGAAAGTTG', 'TTAAGTTTTT', 'GAATTTTTGT', 'GAGTTTGAAA', 'GTTAGAGTTT', 'GTTTG', 'TAACG', 'CGGGT', 'TACGC', 'GCTGC']\n"
          ]
        }
      ],
      "source": [
        "\n",
        "def insertMotif(sequence, motif, position):\n",
        "    return sequence[:position] + motif + sequence[position:]\n",
        "\n",
        "def generateRandomSequence(n:int, upper=False):\n",
        "    \"\"\"\n",
        "    Génère une séquence nucléotidique aléatoire \n",
        "    entrée n : longueur de la sequence\n",
        "    entrée upper : bool, si True les nucléotides seront minuscule, False majuscule\n",
        "    sortie sequence : une séquence nucléotidique aléatoire \n",
        "    \"\"\"\n",
        "    sequence = \"\"\n",
        "    for i in range(n):\n",
        "        sequence += random.choice(nuc) if upper else random.choice(nuc).lower()\n",
        "    return sequence\n",
        "\n",
        "def modifierMotif(motif:str, nbpos:int,  upper=False):\n",
        "    \"\"\"\n",
        "    Modifie nbpos positions d'un motif aléatoirement \n",
        "    entrée motif: motif à modifier\n",
        "    entrée nbpos: nombre de positions\n",
        "    entrée upper : bool, si True les nucléotides modifiés seront minuscule, False majuscule\n",
        "    sortie motifM: motif modifié\n",
        "    \"\"\"\n",
        "    motifM = list(motif)\n",
        "    for i in range(nbpos):\n",
        "        motifM[random.randint(0,len(motifM)-1)]= random.choice(nuc)\n",
        "    \n",
        "    return \"\".join(motifM).upper() if upper else \"\".join(motifM).lower()\n",
        "#tester modifMotif\n",
        "print (modifierMotif(\"acg\", 2))\n",
        "\n",
        "def implantMotifVar(k, v, t, n, f):\n",
        "    \"\"\"\n",
        "    Génère des séquences aléatoires et les implante des motifs variables (un motif par séquence)\n",
        "    entrée k: taille du motif\n",
        "    entrée v: nombre de variations\n",
        "    entrée n : longueur de séquences \n",
        "    entrée t : nombre des séquences\n",
        "    entrée f : frequence de variation du motif.\n",
        "    sortie DNA : matrice de dimension txn avec les motifs implantés\n",
        "    REMARQUE : La taille totale des séquences plus motif doit être égal à t, \n",
        "    pensez à générer de séquence aléatoire de taille t-k pour pouvoir implanter un motif de taille k\n",
        "    \"\"\"\n",
        "    \n",
        "    motif = generateRandomSequence(k)\n",
        "    print(motif)\n",
        "    sequences = [generateRandomSequence(n - k) for i in range(n)]\n",
        "\n",
        "    for i in range(k):\n",
        "        newmotif = motif\n",
        "        if (random.random() < f):\n",
        "            newmotif = modifierMotif(motif, v)\n",
        "        sequences[i] = insertMotif(sequences[i],newmotif , random.randint(0, n - k))\n",
        "    return sequences\n",
        "   # return [insertMotif(generateRandomSequence(t - k),modifierMotif(motif, v), random.randint(0, t - k)) for i in range (n)]\n",
        "\n",
        "\n",
        "adn = implantMotifVar(k, v, t, n, f)\n",
        "print (adn)\n",
        "\n",
        "adn  = [s.upper() for s in adn]\n",
        "print (adn)"
      ]
    },
    {
      "attachments": {},
      "cell_type": "markdown",
      "metadata": {
        "id": "NoPjFWpM_huq"
      },
      "source": [
        "2\\. Faire une fonction pour sélectionner des positions de départ aléatoirement `s = (s1, …,st)`.\n"
      ]
    },
    {
      "cell_type": "code",
      "execution_count": 59,
      "metadata": {
        "id": "WwUeYNeJ_hur"
      },
      "outputs": [
        {
          "name": "stdout",
          "output_type": "stream",
          "text": [
            "[5, 2, 3, 1, 5, 0, 0, 0, 0, 0]\n"
          ]
        }
      ],
      "source": [
        "#creating vector s\n",
        "#Get t random positions from 0 to n - k\n",
        "def generateRandomS(sequences, k):\n",
        "    \"\"\"\n",
        "    Génère un vecteur de position aléatoires\n",
        "    entrée sequences: matrice de dimension txn contenant les sequences\n",
        "    entrée k: taille du motif\n",
        "    sortie s: vecteur de position aléatoires, une position par séquence\n",
        "    REMARQUE les positions doivent être inférieur à n-k, ou n est la taille de sequence\n",
        "    \"\"\"\n",
        "    s = []\n",
        "    for i in range (len(sequences)) :\n",
        "        n = len(sequences[i])\n",
        "        if (n - k >= 0):\n",
        "            s.append(random.randint(0, n - k ))\n",
        "\n",
        "    return s\n",
        "s = generateRandomS(adn, k)\n",
        "print (s)\n"
      ]
    },
    {
      "attachments": {},
      "cell_type": "markdown",
      "metadata": {
        "id": "vwTv0oVD_hut"
      },
      "source": [
        "3\\. Extraire les motifs en utilisant le vecteur `s`, et construire un profile (matrice de fréquence). \n"
      ]
    },
    {
      "cell_type": "code",
      "execution_count": 60,
      "metadata": {
        "id": "GMC6y17y_hut"
      },
      "outputs": [
        {
          "name": "stdout",
          "output_type": "stream",
          "text": [
            "['AGTTG', 'AAGTT', 'TTTTT', 'AGTTT', 'AGTTT', 'GTTTG', 'TAACG', 'CGGGT', 'TACGC', 'GCTGC']\n",
            "[[4. 3. 1. 0. 0.]\n",
            " [1. 1. 1. 1. 2.]\n",
            " [2. 4. 2. 3. 3.]\n",
            " [3. 2. 6. 6. 5.]]\n"
          ]
        }
      ],
      "source": [
        "#extract sequences from seqs\n",
        "def extractSeqs(s, seqs, k):\n",
        "    \"\"\"\n",
        "    Extraire les motifs des séquences à l'aide de positions s\n",
        "    entrée s: vecteur contenant les positions de départs\n",
        "    entrée seqs: matrice de dimension txn contenant les séquences\n",
        "    entrée k: taille du motif\n",
        "    sortie motifs: liste de motifs de taille k extrait des séquences\n",
        "    \"\"\"\n",
        "    motifs = []    \n",
        "    for index in range(len(seqs)):\n",
        "            motifs.append(seqs[index][s[index]: s[index] + k])\n",
        "    return motifs\n",
        "        \n",
        "motifs = extractSeqs(s, adn, k)\n",
        "print (motifs)\n",
        "\n",
        "\n",
        "#Construire un profile = matrice de fréquence\n",
        "def profile(motifs, k, nuc):\n",
        "    \"\"\"\n",
        "    Construire une matrice de fréquence de dimension k x |nuc|\n",
        "    entrée motifs: liste de motifs\n",
        "    entrée k: taille du motif\n",
        "    entrée nuc: alphabet\n",
        "    sortie MF: matrice de fréquence\n",
        "    \"\"\"\n",
        "    q = len(nuc)\n",
        "    PWM = np.zeros((q, k))\n",
        "    for s in motifs :\n",
        "        for j in range(k) :\n",
        "            l = s[j]\n",
        "            if l.upper() == 'A':\n",
        "                PWM[0][j] += 1\n",
        "            elif l.upper() == 'C':\n",
        "                PWM[1][j] += 1\n",
        "            elif l.upper() == 'G':\n",
        "                PWM[2][j] += 1\n",
        "            elif l.upper() == 'T':\n",
        "                PWM[3][j] += 1\n",
        "  \n",
        "    return PWM\n",
        "\n",
        "MF = profile(motifs, k, nuc)\n",
        "print(MF)"
      ]
    },
    {
      "attachments": {},
      "cell_type": "markdown",
      "metadata": {
        "id": "zIw6koU2_huu"
      },
      "source": [
        "4\\. Transformer la matrice de fréquence en PWM. Il faut diviser chaque élément par la somme de ses colonnes."
      ]
    },
    {
      "cell_type": "code",
      "execution_count": 61,
      "metadata": {
        "id": "wOH5mbkA_huv"
      },
      "outputs": [
        {
          "name": "stdout",
          "output_type": "stream",
          "text": [
            "[[0.4 0.3 0.1 0.  0. ]\n",
            " [0.1 0.1 0.1 0.1 0.2]\n",
            " [0.2 0.4 0.2 0.3 0.3]\n",
            " [0.3 0.2 0.6 0.6 0.5]]\n"
          ]
        }
      ],
      "source": [
        "def generatePWM(MF):\n",
        "  \"\"\"\n",
        "  Transforme la matrice de fréquence en PWM\n",
        "  entrée MF: matrice de fréquence\n",
        "  sortie PWM: matrice de probabilité (poids positions)\n",
        "  \"\"\"\n",
        "  tmp = 0\n",
        "  PWM = np.zeros((len(nuc), k))\n",
        "  for i in range(len(MF[0])):\n",
        "      tmp = MF[0][i]  +   MF[1][i] + MF[2][i] + MF[3][i]\n",
        "      for j in range(len(nuc)):\n",
        "        PWM[j][i] = np.round(MF[j][i] / tmp, 3)\n",
        "  return PWM\n",
        "\n",
        "\n",
        "PWM = generatePWM(MF)\n",
        "print(PWM)"
      ]
    },
    {
      "attachments": {},
      "cell_type": "markdown",
      "metadata": {
        "id": "ThOfxUGq_huw"
      },
      "source": [
        "5\\. Faire une fonction pour calculer la probabilité d'un motif de taille `k` selon une PWM.\n"
      ]
    },
    {
      "cell_type": "code",
      "execution_count": 62,
      "metadata": {
        "id": "ZUNbTtum_huw"
      },
      "outputs": [
        {
          "name": "stdout",
          "output_type": "stream",
          "text": [
            "0.0\n"
          ]
        }
      ],
      "source": [
        "def probability(PWM, motif):\n",
        "    \"\"\"\n",
        "    Calcul la probalité d'un motif selon PWM\n",
        "    entrée PWM: matrice de probabilité (poids positions)\n",
        "    entrée motif: motif\n",
        "    sortie prob: probalité Prob(motif|PWM)\n",
        "    \"\"\"\n",
        "    prob = 1\n",
        "    i = 0\n",
        "    for lettre in motif:\n",
        "        if (i >= len(PWM[0])):\n",
        "            break\n",
        "        if lettre.upper() == 'A':\n",
        "            prob = prob * PWM[0][i] \n",
        "        elif lettre.upper() == 'C':\n",
        "            prob = prob * PWM[1][i] \n",
        "        elif lettre.upper() == 'G':\n",
        "            prob = prob * PWM[2][i]\n",
        "        elif lettre.upper() == 'T':\n",
        "            prob = prob * PWM[3][i]\n",
        "        i = i + 1\n",
        "    return prob\n",
        "\n",
        "prob = probability(PWM, \"AGgCA\")\n",
        "print (prob)"
      ]
    },
    {
      "attachments": {},
      "cell_type": "markdown",
      "metadata": {
        "id": "aqLjmxrx_hux"
      },
      "source": [
        "6\\. Faire une fonction pour calculer le pMostProbkmer d'une séquence, voir un exemple dans les slides de cours."
      ]
    },
    {
      "cell_type": "code",
      "execution_count": 63,
      "metadata": {
        "id": "-_GDK4mQ_huy"
      },
      "outputs": [
        {
          "name": "stdout",
          "output_type": "stream",
          "text": [
            "5\n"
          ]
        }
      ],
      "source": [
        "def pMostProbkmer(PWM, k, sequence):\n",
        "    \"\"\"\n",
        "    calcul la position du k-mer le plus probable dans la séquence\n",
        "    entrée PWM: matrice de probabilité (poids positions)\n",
        "    entrée k: taille du motif\n",
        "    entrée sequence: séquence nucleotidique\n",
        "    sortie s: la position la plus probable \n",
        "    \"\"\"\n",
        "    maxProb = 0\n",
        "    s = 0 # position du k-mer le plus probable dans la sequence\n",
        "    for i in range(len(sequence) - k + 1):\n",
        "        tmp = probability(PWM, sequence[i:k + i])\n",
        "        if (tmp > maxProb):\n",
        "            s = i\n",
        "            maxProb = tmp\n",
        "    return s\n",
        "s = pMostProbkmer(PWM, k, \"GCCGGATACT\")\n",
        "print(s)"
      ]
    },
    {
      "attachments": {},
      "cell_type": "markdown",
      "metadata": {
        "id": "QwXuMhNn_huy"
      },
      "source": [
        "7\\. Faire une fonction pour obtenir les nouvelles positions de départ `s = (s1, …,st)`, c’était à dire les positions qui contiens les k-mer le plus probables."
      ]
    },
    {
      "cell_type": "code",
      "execution_count": 64,
      "metadata": {
        "id": "G3neuRM9_huz"
      },
      "outputs": [
        {
          "name": "stdout",
          "output_type": "stream",
          "text": [
            "[5, 3, 1, 1, 5, 0, 0, 0, 0, 0]\n"
          ]
        }
      ],
      "source": [
        "def getNewS(PWM, k, sequences):\n",
        "    \"\"\"\n",
        "    Trouve les nouvelles positions des k-mer le plus probables\n",
        "    entrée PWM: matrice de probabilité (poids positions)\n",
        "    entrée k: taille du motif\n",
        "    entrée sequence: séquence nucleotidique\n",
        "    sortie s: vecteur avec les positions les plus problables\n",
        "    \"\"\"\n",
        "   \n",
        "    return [pMostProbkmer(PWM, k, seq) for seq in sequences]\n",
        "\n",
        "ns = getNewS(PWM, k, adn)\n",
        "print (ns)"
      ]
    },
    {
      "attachments": {},
      "cell_type": "markdown",
      "metadata": {
        "id": "WoETBPxq_huz"
      },
      "source": [
        "8\\. La condition d’arrêt de l'algorithme est le non changement de la matrice de fréquence d'une itération à l'autre, \n",
        "faire une fonction pour comparer deux matrices et détecter le changement. \n",
        "Faire aussi une fonction pour obtenir le score d'une matrice de fréquence : la somme de max de chaque colonne"
      ]
    },
    {
      "cell_type": "code",
      "execution_count": 65,
      "metadata": {
        "id": "NUDOYB6A_hu0"
      },
      "outputs": [
        {
          "name": "stdout",
          "output_type": "stream",
          "text": [
            "s : 5 \n",
            "ns : [5, 3, 1, 1, 5, 0, 0, 0, 0, 0]\n",
            "getScore : 25.0\n"
          ]
        }
      ],
      "source": [
        "def changeProfile(P1, P2):\n",
        "    \"\"\"\n",
        "    Compare deux matrice\n",
        "    entrée P1: matrice de fréquence\n",
        "    entrée P2: matrice de fréquence\n",
        "    sortie: True si les matrices sont différents, False au contraire\n",
        "    \"\"\"\n",
        "    return not((P1 == P2).all())\n",
        "    \n",
        "\n",
        "def getScore(MF, k):\n",
        "    \"\"\"\n",
        "    Renvoie le score de MF, la somme des max de chaque colonne\n",
        "    entrée MF: matrice de fréquence\n",
        "    entrée k: taille du motif\n",
        "    sortie sc: score\n",
        "    \"\"\"\n",
        "    sc = 0\n",
        "    t = len(MF)\n",
        "    n = len(MF[0])\n",
        "    m = 0\n",
        "    for i in range(n) :\n",
        "        m = 0\n",
        "        for j in range(t) :\n",
        "            val = MF[j][i]\n",
        "            if val > m :\n",
        "                m = val\n",
        "        sc += m\n",
        "    \n",
        "    return sc\n",
        "ns = getNewS(PWM, k, adn)\n",
        "print (\"s :\", s, \"\\nns :\", ns)\n",
        "\n",
        "sc = getScore(MF, k)\n",
        "print (\"getScore :\", sc)"
      ]
    },
    {
      "attachments": {},
      "cell_type": "markdown",
      "metadata": {
        "id": "QhO7GPfn_hu0"
      },
      "source": [
        "9\\. Implementer l'algorithme ``GreedyProfileMotifSearch`` en utilisant les fonctions precedentes. \n",
        "BONUS: Pour ameliorer la performance vous pouvez abandonner les positions qui génèrent des motifs peu complexes."
      ]
    },
    {
      "cell_type": "code",
      "execution_count": 66,
      "metadata": {
        "id": "s3wvHQUp_hu0"
      },
      "outputs": [
        {
          "name": "stdout",
          "output_type": "stream",
          "text": [
            "['CGGAAAGTTG', 'TTAAGTTTTT', 'GAATTTTTGT', 'GAGTTTGAAA', 'GTTAGAGTTT', 'GTTTG', 'TAACG', 'CGGGT', 'TACGC', 'GCTGC']\n",
            "20.0\n",
            "['GAAAG', 'TAAGT', 'TTTGT', 'TTTGA', 'TTAGA', 'GTTTG', 'TAACG', 'CGGGT', 'TACGC', 'GCTGC']\n"
          ]
        }
      ],
      "source": [
        "def GreedyProfileMotifSearch(sequences, k):\n",
        "    \"\"\"\n",
        "    Implémente l'algorithme GreedyProfileMotifSearch \n",
        "    entrée sequences: matrice de dimension txn contenant les séquences \n",
        "    entrée k : taille du motif \n",
        "    sortie s : vecteur de positions de départ ayant le meilleur motif \n",
        "    sortie bestScore : le score associé à s\n",
        "    \"\"\"\n",
        "    bestScore = math.inf\n",
        "    savePWM = np.zeros((len(nuc), k))\n",
        "    s = generateRandomS(sequences, k) # initialisation de s avec des positions aléatoires\n",
        "    while (True):\n",
        "        seqfroms = [seq[s[i]:k+s[i]] for i, seq in enumerate(sequences)]\n",
        "        p = profile(seqfroms, k, nuc)\n",
        "        s = []\n",
        "        bestScore = getScore(p,k)\n",
        "        PWM = generatePWM(p)\n",
        "        for seq in sequences:\n",
        "            s.append(pMostProbkmer(PWM,k,seq))\n",
        "        if (changeProfile(PWM,savePWM)):\n",
        "            break\n",
        "        savePWM = PWM\n",
        "   \n",
        "    return s , bestScore\n",
        "\n",
        "\n",
        "print (adn)\n",
        "s, bestScore = GreedyProfileMotifSearch(adn, k)   \n",
        "motifs = extractSeqs(s, adn, k)\n",
        "print(bestScore)\n",
        "print (motifs)\n",
        "        "
      ]
    },
    {
      "attachments": {},
      "cell_type": "markdown",
      "metadata": {
        "id": "xvo0wA0R_hu1"
      },
      "source": [
        "10\\. Avez vous trouvez le motif implanté? Rexécuter l’algorithme plusieurs fois pour le trouver. "
      ]
    },
    {
      "attachments": {},
      "cell_type": "markdown",
      "metadata": {
        "id": "tQw_6g6I_hu1"
      },
      "source": [
        "Reponse: on trouve GTT"
      ]
    },
    {
      "attachments": {},
      "cell_type": "markdown",
      "metadata": {
        "id": "hFC52cFb_hu1"
      },
      "source": [
        "11\\. Vous avez certainement observer que l’algorithme ne produire pas toujours la même sortie et que les résultats dépendent de la sélection aléatoire des positions de départ `s`. Pour augmenter nous chances de retrouvez les bons motifs, nous allons implémenter une version itérative ``GreedyProfileMotifSearchIte`` \n",
        "qui a chaque fois sauvegarde `s` et le score du profile associé à `s`, après `I` itération, l’algorithme renvoie le vecteur `s` ayant le plus grand score."
      ]
    },
    {
      "cell_type": "code",
      "execution_count": 67,
      "metadata": {
        "id": "RN4HsjUX_hu2"
      },
      "outputs": [
        {
          "name": "stdout",
          "output_type": "stream",
          "text": [
            "[4, 4, 5, 0, 4, 0, 0, 0, 0, 0]\n",
            "{21.0: 'TAAGT', 19.0: 'GAGTT', 22.0: 'TAAGT', 20.0: 'GAATT', 23.0: 'GTTTT', 24.0: 'TAAGT', 25.0: 'GAATT'}\n"
          ]
        }
      ],
      "source": [
        "def GreedyProfileMotifSearchIte(sequences, k, It):\n",
        "    \"\"\"\n",
        "    Implémente l'algorithme GreedyProfileMotifSearch iteratif\n",
        "      entrée séquences: matrice de dimension txn contenant les séquences\n",
        "      entrée k: taille du motif \n",
        "    entrée It: nombre d'iterations\n",
        "    sortie positions: dictionnaire clé=score, valeur= vecteur s \n",
        "    sortie consensus: dictionnaire clé=score, valeur= sequence consensus du motif\n",
        "    \"\"\"\n",
        "   \n",
        "    pos = {}\n",
        "    consensus = {}\n",
        "    \n",
        "    for i in range(It):\n",
        "        s,score = GreedyProfileMotifSearch(sequences, k)\n",
        "        pos[score] = s\n",
        "        \n",
        "        kmers = extractSeqs(s, sequences, k)\n",
        "        profile_var = profile(kmers, k, nuc)\n",
        "        PWM_var= generatePWM(profile_var)\n",
        "        \n",
        "        maxProb = 0\n",
        "        bestMotif = \"\"\n",
        "        for i in kmers :\n",
        "            proba_var = probability(PWM_var, i)\n",
        "            if proba_var > maxProb :\n",
        "                maxProb = proba_var\n",
        "                bestMotif = i\n",
        "        \n",
        "        consensus[score] = bestMotif\n",
        "        \n",
        "    \n",
        "    max_key = max(pos, key=pos.get)\n",
        "    return pos[max_key], consensus\n",
        "s, consensus = GreedyProfileMotifSearchIte(adn, k, 50)\n",
        "\n",
        "print (s)\n",
        "print (consensus)"
      ]
    },
    {
      "attachments": {},
      "cell_type": "markdown",
      "metadata": {},
      "source": []
    },
    {
      "cell_type": "code",
      "execution_count": null,
      "metadata": {},
      "outputs": [],
      "source": []
    },
    {
      "cell_type": "code",
      "execution_count": 68,
      "metadata": {
        "id": "S7DtjmxjCyQ-"
      },
      "outputs": [
        {
          "name": "stdout",
          "output_type": "stream",
          "text": [
            "{21.0: 'TAAGT', 19.0: 'GAGTT', 22.0: 'TAAGT', 20.0: 'GAATT', 23.0: 'GTTTT', 24.0: 'TAAGT', 25.0: 'GAATT'}\n",
            "{21.0: 'TAAGT', 19.0: 'GAGTT', 22.0: 'TAAGT', 20.0: 'GAATT', 23.0: 'GTTTT', 24.0: 'TAAGT', 25.0: 'GAATT'}\n",
            "GAATT\n",
            "TAAGT\n"
          ]
        }
      ],
      "source": [
        "def printTopFMotifsScore(consensus, top):\n",
        "    unique_values = list(set(consensus.values()))\n",
        "    new_dict = {k: v for k, v in consensus.items() if v in unique_values}\n",
        "    print(new_dict)\n",
        "    motifsSort = sorted(new_dict.keys())\n",
        "    motifsSort.reverse()\n",
        "    for i in range(top):\n",
        "        print(new_dict[motifsSort[i]])\n",
        "\n",
        "print(consensus)\n",
        "printTopFMotifsScore(consensus, 2)\n"
      ]
    },
    {
      "attachments": {},
      "cell_type": "markdown",
      "metadata": {
        "id": "js7TuAsB_hu2"
      },
      "source": [
        "12\\. Tester algorithme  ``GreedyProfileMotifSearchIte`` sur vos données de chipSeq. N'oubliez pas de chercher les motifs dans le brin complémentaire et faire un merge de résultats."
      ]
    },
    {
      "cell_type": "code",
      "execution_count": 69,
      "metadata": {
        "id": "8um7xWi4URGv"
      },
      "outputs": [],
      "source": [
        "\n",
        "def reverseComplement(seq):\n",
        "    seq_dict = {'A':'T','T':'A','G':'C','C':'G'}\n",
        "    return \"\".join([seq_dict[base] for base in reversed(seq)])"
      ]
    },
    {
      "cell_type": "code",
      "execution_count": 70,
      "metadata": {
        "id": "-M8y_sOS_hu3"
      },
      "outputs": [
        {
          "name": "stdout",
          "output_type": "stream",
          "text": [
            "{22190.0: 'ATTATATT', 22054.0: 'ATTTATAT', 22001.0: 'ATAGTATT', 22081.0: 'TATTATAT', 22104.0: 'AATAATAT', 22132.0: 'TATATTAT', 22167.0: 'TATTATAT', 22055.0: 'AAATTAAT', 22142.0: 'ATAAATAT', 22150.0: 'AATATTTA', 22179.0: 'AAATAATT', 22153.0: 'AATAATAT', 22049.0: 'AATATCTT', 21940.0: 'AATATATA', 22158.0: 'AATAAATA', 22147.0: 'TAAATATT', 22087.0: 'TATTATTA', 22074.0: 'AATATATA', 22050.0: 'ATGTACTT', 22098.0: 'TATTTAAT', 22070.0: 'TATATAAT', 22004.0: 'ATTGTATT', 22009.0: 'AATAAATA', 22035.0: 'AATTATTA', 22053.0: 'ATTTTATT', 22066.0: 'AATTATTT', 22127.0: 'TAATAAAT', 22157.0: 'ATATAAAT', 21986.0: 'AATCTAAT', 21971.0: 'ATTATATA', 22100.0: 'ATATATTT', 22110.0: 'TAATAATA', 22039.0: 'ATATTATT', 22120.0: 'AATCTATT', 22082.0: 'TATGTATT', 21998.0: 'ATAATATT', 22109.0: 'TATTTATT', 22148.0: 'AAGTAATA', 22089.0: 'AATAATAT', 22056.0: 'ATATATTT', 22093.0: 'TATATATA', 22079.0: 'ATAATATT', 22016.0: 'AATATATT', 22013.0: 'TAATATAT', 22042.0: 'TATATAAT', 22017.0: 'ATATAATA', 22141.0: 'AATATAAT', 22067.0: 'ATAATATT', 22032.0: 'TATTTATA', 22096.0: 'TATGAATT', 22108.0: 'TAATATAT', 22200.0: 'TATCAATT', 22117.0: 'TATAATAT', 22020.0: 'AATATTTA', 22052.0: 'TATATTTA', 22040.0: 'AAATAATA', 22143.0: 'ATATTATA', 22027.0: 'AATATTAT', 22021.0: 'ATTACATA', 22019.0: 'ATACTATT', 22030.0: 'ATATATAT', 22146.0: 'AATAAATT', 22083.0: 'ATTAATTA', 22180.0: 'AATATATA', 21984.0: 'ATATTATT', 22048.0: 'AATATATT', 22028.0: 'AATTCATA', 22188.0: 'AAATTATT', 22058.0: 'TAAATATT', 22046.0: 'ATTATATA', 22128.0: 'AAATATAT', 22033.0: 'ATATATTT', 22114.0: 'ATAATATA', 22069.0: 'AATTAATT', 21989.0: 'ATTAATAT', 22060.0: 'AATATAAT', 22118.0: 'AATATATT', 22103.0: 'AATTAATT', 22133.0: 'AATAGATA', 22059.0: 'ATAATATT', 22029.0: 'AATTATTT', 22152.0: 'AATCTATT', 21997.0: 'AATAAATA', 22057.0: 'AAATAAAT'}\n",
            "{22190.0: 'ATTATATT', 22054.0: 'ATTTATAT', 22001.0: 'ATAGTATT', 22081.0: 'TATTATAT', 22104.0: 'AATAATAT', 22132.0: 'TATATTAT', 22167.0: 'TATTATAT', 22055.0: 'AAATTAAT', 22142.0: 'ATAAATAT', 22150.0: 'AATATTTA', 22179.0: 'AAATAATT', 22153.0: 'AATAATAT', 22049.0: 'AATATCTT', 21940.0: 'AATATATA', 22158.0: 'AATAAATA', 22147.0: 'TAAATATT', 22087.0: 'TATTATTA', 22074.0: 'AATATATA', 22050.0: 'ATGTACTT', 22098.0: 'TATTTAAT', 22070.0: 'TATATAAT', 22004.0: 'ATTGTATT', 22009.0: 'AATAAATA', 22035.0: 'AATTATTA', 22053.0: 'ATTTTATT', 22066.0: 'AATTATTT', 22127.0: 'TAATAAAT', 22157.0: 'ATATAAAT', 21986.0: 'AATCTAAT', 21971.0: 'ATTATATA', 22100.0: 'ATATATTT', 22110.0: 'TAATAATA', 22039.0: 'ATATTATT', 22120.0: 'AATCTATT', 22082.0: 'TATGTATT', 21998.0: 'ATAATATT', 22109.0: 'TATTTATT', 22148.0: 'AAGTAATA', 22089.0: 'AATAATAT', 22056.0: 'ATATATTT', 22093.0: 'TATATATA', 22079.0: 'ATAATATT', 22016.0: 'AATATATT', 22013.0: 'TAATATAT', 22042.0: 'TATATAAT', 22017.0: 'ATATAATA', 22141.0: 'AATATAAT', 22067.0: 'ATAATATT', 22032.0: 'TATTTATA', 22096.0: 'TATGAATT', 22108.0: 'TAATATAT', 22200.0: 'TATCAATT', 22117.0: 'TATAATAT', 22020.0: 'AATATTTA', 22052.0: 'TATATTTA', 22040.0: 'AAATAATA', 22143.0: 'ATATTATA', 22027.0: 'AATATTAT', 22021.0: 'ATTACATA', 22019.0: 'ATACTATT', 22030.0: 'ATATATAT', 22146.0: 'AATAAATT', 22083.0: 'ATTAATTA', 22180.0: 'AATATATA', 21984.0: 'ATATTATT', 22048.0: 'AATATATT', 22028.0: 'AATTCATA', 22188.0: 'AAATTATT', 22058.0: 'TAAATATT', 22046.0: 'ATTATATA', 22128.0: 'AAATATAT', 22033.0: 'ATATATTT', 22114.0: 'ATAATATA', 22069.0: 'AATTAATT', 21989.0: 'ATTAATAT', 22060.0: 'AATATAAT', 22118.0: 'AATATATT', 22103.0: 'AATTAATT', 22133.0: 'AATAGATA', 22059.0: 'ATAATATT', 22029.0: 'AATTATTT', 22152.0: 'AATCTATT', 21997.0: 'AATAAATA', 22057.0: 'AAATAAAT'}\n",
            "TATCAATT\n",
            "ATTATATT\n",
            "AAATTATT\n",
            "AATATATA\n",
            "AAATAATT\n",
            "TATTATAT\n",
            "AATAAATA\n",
            "ATATAAAT\n"
          ]
        }
      ],
      "source": [
        "k=8\n",
        "\n",
        "def readFasta(genome, n):\n",
        "    sequence = []\n",
        "    file = open(genome, \"r\")\n",
        "    sequence = []\n",
        "    for s in file:\n",
        "        if s[0] != \">\":\n",
        "            sequence.append(s.strip().upper())\n",
        "    sequenceStr = \"\".join(sequence)\n",
        "    #sequence = [sequenceStr]\n",
        "    sequence = [sequenceStr[i:i+n] for i in range(0, len(sequenceStr), n)]\n",
        "    sequenceRet = [x for x in sequence if x]\n",
        "    return sequenceRet\n",
        "\n",
        "genome = \"Sequence_by_Peaks_3.fasta\"\n",
        "\n",
        "\n",
        "sequencesChip   = readFasta(genome, n)\n",
        "t = len(sequencesChip)\n",
        "#print (sequencesChip[8], t, k)\n",
        "revSequences = [reverseComplement(m) for m in sequencesChip]\n",
        "sequencesChip = sequencesChip + revSequences\n",
        "sequencesRet = [x for x in sequencesChip if len(x) == n]\n",
        "#print(removeLowComplex(sequencesRet))\n",
        "s, consensus = GreedyProfileMotifSearchIte(sequencesRet, k, 100)\n",
        "print(consensus)\n",
        "printTopFMotifsScore(consensus, 8)\n"
      ]
    }
  ],
  "metadata": {
    "celltoolbar": "Raw Cell Format",
    "colab": {
      "provenance": []
    },
    "kernelspec": {
      "display_name": "Python 3",
      "language": "python",
      "name": "python3"
    },
    "language_info": {
      "codemirror_mode": {
        "name": "ipython",
        "version": 3
      },
      "file_extension": ".py",
      "mimetype": "text/x-python",
      "name": "python",
      "nbconvert_exporter": "python",
      "pygments_lexer": "ipython3",
      "version": "3.11.3"
    },
    "vscode": {
      "interpreter": {
        "hash": "7e1998ff7f8aa20ada591c520b972326324e5ea05489af9e422744c7c09f6dad"
      }
    }
  },
  "nbformat": 4,
  "nbformat_minor": 0
}
