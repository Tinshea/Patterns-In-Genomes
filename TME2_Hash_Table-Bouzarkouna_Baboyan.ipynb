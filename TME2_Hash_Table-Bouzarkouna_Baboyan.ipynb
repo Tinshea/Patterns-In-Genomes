{
 "cells": [
  {
   "attachments": {},
   "cell_type": "markdown",
   "metadata": {
    "id": "rvIXzvLp90be"
   },
   "source": [
    "Nom Etudiant 1: BOUZARKOUNA Malek\n",
    "<br>\n",
    "Nom Etudiant 2: BABOYAN Sevag"
   ]
  },
  {
   "cell_type": "code",
   "execution_count": null,
   "metadata": {},
   "outputs": [],
   "source": []
  },
  {
   "attachments": {},
   "cell_type": "markdown",
   "metadata": {
    "id": "MoRHY5QImaqy"
   },
   "source": [
    "# TME 4 : Projet Detection de motifs - Hash Table\n",
    "\n",
    "Nous allons développer des algorithmes pour chercher de motifs dans les données de ChipSeq de C. glabrata.\n",
    "Pour commencer nous allons d'abord produire des données artificielles qui nous permettront de tester rapidement nos algorithmes. Ensuite nous allons chercher les motifs dans C. glabrata et analyser les résultats.\n",
    "\n",
    "## Partie A : Recherche de pattern (motifs) identiques\n"
   ]
  },
  {
   "attachments": {},
   "cell_type": "markdown",
   "metadata": {
    "id": "bmMkaXpwmaq9"
   },
   "source": [
    "1\\. Faites une fonction pour générer aléatoirement des séquences artificielles, puis générer t=10 séquences de n=41 nucléotides chacune. Toutes les lettres peuvent être équiprobables pour la génération des séquences."
   ]
  },
  {
   "cell_type": "code",
   "execution_count": 1,
   "metadata": {
    "id": "c8RaBfm0maq-"
   },
   "outputs": [
    {
     "name": "stdout",
     "output_type": "stream",
     "text": [
      "['ctcgccac', 'gggctaag', 'gcactgtg', 'cccataat']\n"
     ]
    }
   ],
   "source": [
    "import random\n",
    "\n",
    "nuc = ('A', 'C', 'G', 'T')\n",
    "\n",
    "t=10 #nombre de sequences\n",
    "n=41 #longueur des sequences\n",
    "\n",
    "#Pour un simple teste\n",
    "t=4 #nombre de sequences\n",
    "n=8 #longueur des sequences\n",
    "\n",
    "def generateRandomSequence(n:int, upper=False):\n",
    "    \"\"\"\n",
    "    Genere une séquence nucléotidique aléatoire \n",
    "    entrée n : longueur de la sequence\n",
    "    entrée upper : bool, si True les nucléotides seront minuscule, False majuscule\n",
    "    sortie sequence : une séquence nucléotidique aléatoire \n",
    "    \"\"\"\n",
    "    sequence = \"\"\n",
    "    for i in range(n):\n",
    "        sequence += random.choice(nuc) if upper else random.choice(nuc).lower()\n",
    "    return sequence\n",
    " \n",
    "    return sequence\n",
    "\n",
    "def generateRandomSequences(n:int, t:int):\n",
    "    \"\"\"\n",
    "    Genere plusieurs séquences nucléotidiques aléatoires \n",
    "    entrée n : longueur des sequences\n",
    "    entrée t : nombre de sequences\n",
    "    sortie sequences : liste de sequences nucléotidiques aléatoires \n",
    "    \"\"\"\n",
    "    sequences = []\n",
    "    for i in range(t):\n",
    "        sequences.append(generateRandomSequence(n))\n",
    "    return sequences\n",
    "    \n",
    "seqs = generateRandomSequences(n, t)\n",
    "\n",
    "print (seqs)\n"
   ]
  },
  {
   "attachments": {},
   "cell_type": "markdown",
   "metadata": {
    "id": "PcesMqoNmarD"
   },
   "source": [
    "2\\. Nous allons maintenant implanter dans les séquences artificielles generés avant un motif de taille `k`=9 à des positions aléatoires (choisies uniformément le long de la séquence). \n",
    "Bonus : on considère une proportion ``f``=0.9 de séquences qui possèdent le motif."
   ]
  },
  {
   "cell_type": "code",
   "execution_count": 2,
   "metadata": {
    "id": "7lVbiVK7marF"
   },
   "outputs": [
    {
     "name": "stdout",
     "output_type": "stream",
     "text": [
      "\n",
      "Modified sequences: ['ctcACGgcACGcAACGCACAACGCGGGac', 'ACGgggcACGACGACGtaaAACGCGACGg', 'AACGCGgcactAACGCGgAACGCACGGtg', 'cACGccaAAAACGCGCACGGCACGGtaat']\n"
     ]
    }
   ],
   "source": [
    "# taille des motifs k = 9\n",
    "k = 3 \n",
    "# frequences d'occurences des motifs f = 0.9 \n",
    "f = 0.9 # Pour le bonnus\n",
    "\n",
    "import random\n",
    "\n",
    "def implantMotifs(motifs:str,  sequences:list, f=1):\n",
    "    \"\"\"\n",
    "    Insérer un motif dans des positions aléatoires des séquences\n",
    "    entrée motifs : motif qui va être implanté dans les séquences\n",
    "    entrée f : fréquence d'implantation si 1 toutes les sequences contiendra un motif\n",
    "    entrée séquences : liste de sequences\n",
    "    sortie modified_sequences: liste de séquences ayant le motif implanté\n",
    "    \"\"\"\n",
    "    modified_sequences     = []\n",
    "    for i in range(len(sequences)):\n",
    "        sequence = sequences[i]\n",
    "        for j in range(int(len(sequence)*f)):\n",
    "            #Solution possible: random.random() <= f\n",
    "            pos = random.randint(0, len(sequence))  \n",
    "            sequence = insertMotif(sequence,motifs,pos)\n",
    "        modified_sequences.append(sequence)\n",
    "\n",
    "    return modified_sequences\n",
    "\n",
    "def insertMotif(sequence, motif, position):\n",
    "    return sequence[:position] + motif + sequence[position:]\n",
    "\n",
    "# Generate motifs\n",
    "def generateMotifs(k, nM):\n",
    "    return [generateRandomSequence(k, False) for rs in range(nM)]\n",
    "\n",
    "\n",
    "motif = generateRandomSequence(3, True)\n",
    "\n",
    "\n",
    "motif_implanted_seqs = implantMotifs(motif,  seqs, f)\n",
    "print (\"\\nModified sequences:\", motif_implanted_seqs)\n",
    "\n",
    "  \n"
   ]
  },
  {
   "attachments": {},
   "cell_type": "markdown",
   "metadata": {
    "id": "xiIkrujLmarJ"
   },
   "source": [
    "3\\. Faites une fonction pour chercher les $m$ motifs de taille $k$ les plus fréquents dans l'ensemble des séquences. Tester cette fonction sur un l'ensemble de séquences avec le motif implanté génère dans les questions précédentes. Faite aussi une fonction qu'affiche les $top$ motifs les plus fréquents. "
   ]
  },
  {
   "cell_type": "code",
   "execution_count": 3,
   "metadata": {
    "id": "LPsYkRG1marK"
   },
   "outputs": [
    {
     "name": "stdout",
     "output_type": "stream",
     "text": [
      "{'TAA': 3, 'AAG': 1, 'AGT': 1, 'GTA': 1, 'TAT': 2, 'ATA': 1, 'CTA': 1, 'ATC': 1}\n",
      "{'TAA': 3, 'TAT': 2}\n"
     ]
    }
   ],
   "source": [
    "def searchMotifs(k:int, sequences:list):\n",
    "    \"\"\"\n",
    "    Cherche les motifs de taille k dans un ensemble de séquences\n",
    "    entrée k : taille du motif\n",
    "    entrée séquences : liste de sequences\n",
    "    sortie motifs: dictionnaire de motifs, clé=motif, valeur = fréquence d'observation\n",
    "    >>>searchMotifs(3, ['TAAGTAA', 'TATAA', 'CTATC'])\n",
    "    {'TAA': 3, 'AAG': 1, 'AGT': 1, 'GTA': 1, 'TAT': 2, 'ATA': 1, 'CTA': 1, 'ATC': 1}\n",
    "    \"\"\"\n",
    "\n",
    "    motifs  = {}\n",
    "    \n",
    "    for seq in sequences:\n",
    "        for i in range(len(seq) - k + 1):\n",
    "            if seq[i:(k + i)] in motifs:\n",
    "                motifs[seq[i:(k + i)]] += 1\n",
    "            else:\n",
    "                motifs[seq[i:(k + i)]] = 1\n",
    "                \n",
    "    return motifs\n",
    "\n",
    "def getTopMotifs(motifs:dict(), top:int):\n",
    "    \"\"\"\n",
    "    renvoyer les top motifs le plus frequent\n",
    "    entrée motifs: dictionnaire de motifs, clé=motif, valeur = fréquence d'observation\n",
    "    entrée top : les top plus frequent \n",
    "    sortie motifsfreq: dictionnaire contenant les top motifs les plus fréquents, clé=motif, valeur = fréquence d'observation\n",
    "    >>>getTopMotifs({'TAA': 3, 'AAG': 1, 'AGT': 1, 'GTA': 1, 'TAT': 2, 'ATA': 1, 'CTA': 1, 'ATC': 1}, 2)\n",
    "    {'TAA': 3, 'TAT': 2}\n",
    "    \"\"\"      \n",
    "    return dict(sorted(motifs.items(),key=lambda x:x[1],reverse=True)[:top])\n",
    "\n",
    "\n",
    "motifsFound = searchMotifs(3, ['TAAGTAA', 'TATAA', 'CTATC'])\n",
    "print (motifsFound)\n",
    "#{'TAA': 3, 'AAG': 1, 'AGT': 1, 'GTA': 1, 'TAT': 2, 'ATA': 1, 'CTA': 1, 'ATC': 1}\n",
    "topMotifs = getTopMotifs(motifsFound, 2)\n",
    "print (topMotifs)\n",
    "#{'TAA': 3, 'TAT': 2}"
   ]
  },
  {
   "attachments": {},
   "cell_type": "markdown",
   "metadata": {
    "id": "G8Hw-Zj6marM"
   },
   "source": [
    "4\\. Quell est la complexité de votre algorithme?"
   ]
  },
  {
   "attachments": {},
   "cell_type": "markdown",
   "metadata": {
    "id": "3uvvJvCKmarN"
   },
   "source": [
    "<font color='blue'>\n",
    "La fonction sorted a une complexité en O(nlog(n)) et c'est notre seule boucle. \n",
    "Donc la complexité de la fonction getTopMotifs est en O(nlog(n))\n",
    "</font>"
   ]
  },
  {
   "attachments": {},
   "cell_type": "markdown",
   "metadata": {
    "id": "H8HebyHumarO"
   },
   "source": [
    "5\\. Certains motifs sont reverse complémentaires. Implanter des motifs reverse complémentaires dans les séquences déjà générés et en suite chercher ces motifs. Attention: vous devez réutiliser les fonctions développés précédemment, pas besoin de définir des nouvelles fonctions. "
   ]
  },
  {
   "cell_type": "code",
   "execution_count": 4,
   "metadata": {
    "id": "O_zGqHAFmarO"
   },
   "outputs": [
    {
     "name": "stdout",
     "output_type": "stream",
     "text": [
      "['CGTatcCGTCGTttCGCGTTttCCGTGCGTTc', 'CGCGTTCGTgaactCGCGTTCGCGTTcttCGT', 'aaCGTgcCGCCGTGTCGTTCGTcCGTtcaCGT', 'cgaCGTtCGTacaCGCGTTaCGTCGCGCGTTT']\n"
     ]
    }
   ],
   "source": [
    "def reversecompl(seq:str):\n",
    "    \"\"\"Renvoie le brin complémentaire d’une séquence.\n",
    "    entrée seq : sequence de nucléotides (brin sens)\n",
    "    sortie     : sequence de nucléotides (brin complementaire)\n",
    "    >>> reversecompl('AACGTGGCA')\n",
    "    'TGCCACGTT'\n",
    "    \"\"\"\n",
    "    compl = {\"A\": \"T\", \"C\": \"G\", \"G\": \"C\", \"T\":\"A\"}\n",
    "    complement=\"\"\n",
    "    #on remplace tour par tour pas son complémentaire\n",
    "    for i in seq : \n",
    "        complement+=compl.get(i)#on remplace tour par tour pas son complémentaire\n",
    "    \n",
    "    return complement[::-1] #et on reverse la liste \n",
    "\n",
    "print(implantMotifs(reversecompl(motif), generateRandomSequences(n,t),1))"
   ]
  },
  {
   "attachments": {},
   "cell_type": "markdown",
   "metadata": {
    "id": "RyUhiM2XmarQ"
   },
   "source": [
    "\n",
    "## Partie B : Recherche de motifs identiques sur vos données"
   ]
  },
  {
   "attachments": {},
   "cell_type": "markdown",
   "metadata": {
    "id": "qjjE5tq9marQ"
   },
   "source": [
    "1\\. Le fichier \"C_glabrata_1000bp_only.fasta\" contiens les séquences régulatrices pour tous les gènes de votre organisme. Nous avons pris les 1000bp en amont du codon start. Chercher les 50 motifs de taille 7 les plus fréquents dans les deux brins de votre génome."
   ]
  },
  {
   "cell_type": "code",
   "execution_count": 5,
   "metadata": {
    "id": "-r1ASCFYmarR"
   },
   "outputs": [],
   "source": [
    "import time\n",
    "\n",
    "k=7\n",
    "feq=10\n",
    "top= 50\n",
    "genome = \"C_glabrata_1000bp_only.fasta\"\n",
    "\n",
    "\n",
    "\n",
    "def readFasta(fastaFileName):\n",
    "    \"\"\"\n",
    "    Read a fasta file\n",
    "    entrée fastaFileName: nom du fichier fasta\n",
    "    sortie sequences: liste contenant toutes les sequences du fichier\n",
    "    \"\"\"\n",
    "    sequence = []\n",
    "    file = open(fastaFileName, \"r\")\n",
    "    sequence = []\n",
    "    for s in file:\n",
    "        if s[0] != \">\":\n",
    "            sequence.append(s.strip().upper())\n",
    "    return sequence\n",
    "\n",
    "#sequences   = readFasta(genome)\n",
    "#getTopMotifs(searchMotifs(7,sequences),top)\n",
    "\n",
    "\n",
    "\n"
   ]
  },
  {
   "attachments": {},
   "cell_type": "markdown",
   "metadata": {
    "id": "0e5fdIztmarS"
   },
   "source": [
    "2\\. Quel sont les trois motifs de taille 7 les plus frequents? Pensez vous que ces motifs correspondent à de facteur de transcription connus? Justifier votre reponse."
   ]
  },
  {
   "attachments": {},
   "cell_type": "markdown",
   "metadata": {
    "id": "8Zyhn6-PmarS"
   },
   "source": [
    "<font color='white'>\n",
    "Les trois motifs de taille 7 les plus frequents sont : <br/>\n",
    "    'AAAAAAA': 8385,<br/>\n",
    "    'TTTTTTT': 7658,<br/>\n",
    "    'ATATATA': 3096,<br/>\n",
    "on peut supposer que ce sont des motifs de facteur de transcription qui servent à activer et exprimer le génome.\n",
    "    \n",
    "</font>"
   ]
  },
  {
   "attachments": {},
   "cell_type": "markdown",
   "metadata": {
    "id": "NVUbnuGDmarT"
   },
   "source": [
    "3\\. BONNUS: Le motif TGATTCAT correspond au facteur de transcription Gcn4 qui est trés suivant trouvé dans le genome de levures. Est-ce que vous avez trouvé ce motif? Si oui avec quel frequence?"
   ]
  },
  {
   "cell_type": "code",
   "execution_count": 6,
   "metadata": {
    "id": "ZeMVGLjVmarT"
   },
   "outputs": [],
   "source": [
    "motifGcn4 = ['TGATTCA']\n",
    "\n",
    "def searchGivenMotif(motifsTrouve:dict(), motifSpecifique:str()):\n",
    "    \"\"\"\n",
    "    Cherche une liste de motifs specifiques dans un dictionaire de motifs trouvés\n",
    "    entrée motifsTrouve : dictionnaire de motifs, clé=motif, valeur = fréquence d'observation\n",
    "    entrée motifSpecifique: un motif specifique à chercher\n",
    "    sortie frequence : la frenquence du motif\n",
    "    sortie ranking : dans quelle position le motif a été trouvé\n",
    "    \"\"\"\n",
    "    frequence = 0; ranking = 0\n",
    "    motifs=sorted(motifsTrouve,reverse=True,key=motifsTrouve.get)\n",
    "\n",
    "    if motifSpecifique[0] in motifsTrouve.keys():\n",
    "        for i in range(len(motifs)):\n",
    "            if motifs[i] == motifSpecifique[0]:\n",
    "                ranking = i\n",
    "                break    \n",
    "        frequence = motifsTrouve[motifSpecifique[0]]\n",
    "        \n",
    "    return frequence, ranking\n",
    "\n",
    "#searchGivenMotif(dict(searchMotifs(7,sequences)),motifGcn4)\n",
    "\n"
   ]
  },
  {
   "attachments": {},
   "cell_type": "markdown",
   "metadata": {
    "id": "Ibm0Eja2marU"
   },
   "source": [
    "4\\. Les motifs peu complexes (avec par exemple 5, 6 ou 7 fois la même lettre) sont courants dans les génomes, ils n'ont généralement pas de signification biologique. Dans le context de ce projet, vous pouvez eliminer aussi les motifis ayant deux lettre repetés, comme par exemple AGAGAGA. Faites une fonction pour éliminer les motifs peu complexes, _i. e._ qui ont au moins $m$ fois la même lettre ou qui ont deux lettre consecutive répétés. Dans quel position vous trouver Gcn4 apres enlever les motifs peu complexes?</font>. \n"
   ]
  },
  {
   "cell_type": "code",
   "execution_count": 7,
   "metadata": {
    "id": "cFkaqI39marU"
   },
   "outputs": [],
   "source": [
    "def removeLowComplexe(motifs):\n",
    "    \"\"\"\n",
    "    Eleve les motifs peu complexe ayant \n",
    "    entrée motifs: dictionnaire de motifs, clé=motif, valeur = fréquence d'observation\n",
    "    sortie motifsClean: dictionnaire de motifs sans les motifs peu complexe.\n",
    "    \"\"\"\n",
    "    motifsClean = {}\n",
    "    double_consecutif=0\n",
    "    for key in motifs.keys():\n",
    "        for i in range(0,len(key)-3):\n",
    "            if (key[i] == key[i+2] and key[i+1] == key[i+3]):\n",
    "                double_consecutif=0\n",
    "            else:\n",
    "                double_consecutif=1\n",
    "                break\n",
    "        if not(double_consecutif == 0 or ((key.lower()).count('a') > 4) or  ((key.lower()).count('t') > 4) or  ((key.lower()).count('c') > 4) or  ((key.lower()).count('g') > 4)):\n",
    "            motifsClean[key] = motifs[key]\n",
    "    return motifsClean\n",
    "\n",
    "\n",
    "\n",
    "\n",
    "#removeLowComplexe(searchMotifs(7, readFasta(genome)))\n",
    "\n"
   ]
  },
  {
   "attachments": {},
   "cell_type": "markdown",
   "metadata": {
    "id": "MrAPyMcPmarV"
   },
   "source": [
    "5\\. Le fichier \"Sequence_by_Peaks_G*.fasta\" contiens les regions de peak trouvé par ChipSeq, qui contient probablement le Facteur de Transcription que nous cherchons. Apliquer les fonctions precedents pour chercher les 3 motifs les plus fréquents dans les deux brim. Il faut bien evidement enlever les motifs peu complexe."
   ]
  },
  {
   "cell_type": "code",
   "execution_count": 8,
   "metadata": {
    "id": "wIHGDtXDmarW"
   },
   "outputs": [
    {
     "data": {
      "text/plain": [
       "{'CGATGAGC': 11,\n",
       " 'CTCATTGG': 11,\n",
       " 'CTGATTGG': 11,\n",
       " 'TATATACA': 10,\n",
       " 'TCATTGGT': 10,\n",
       " 'TCTGATTG': 10,\n",
       " 'GCGATGAG': 10,\n",
       " 'ATCATATG': 10,\n",
       " 'TCATATGA': 9,\n",
       " 'ATTGGTTC': 9,\n",
       " 'TGATTGGT': 9,\n",
       " 'ATTGGTCC': 9,\n",
       " 'ATCACATG': 9,\n",
       " 'GATGAGCT': 8,\n",
       " 'CTATTGTA': 8,\n",
       " 'ACGTATAT': 8,\n",
       " 'ATATATTG': 8,\n",
       " 'TGACCAAT': 8,\n",
       " 'TTGTATAC': 8,\n",
       " 'ATTATCAT': 8,\n",
       " 'CATTGGTC': 8,\n",
       " 'TCACATGA': 8,\n",
       " 'TGATTGGC': 8,\n",
       " 'ATTGGCTG': 8,\n",
       " 'GCCAATCA': 7,\n",
       " 'TTGTAGTA': 7,\n",
       " 'AAAATTTT': 7,\n",
       " 'ATTGTATA': 7,\n",
       " 'CCAATGAG': 7,\n",
       " 'CATATGAC': 7}"
      ]
     },
     "execution_count": 8,
     "metadata": {},
     "output_type": "execute_result"
    }
   ],
   "source": [
    "k = 8\n",
    "feq = 5\n",
    "top = 30\n",
    "\n",
    "sequences = readFasta(\"Sequence_by_Peaks_3.fasta\")\n",
    "getTopMotifs(removeLowComplexe(searchMotifs(k,sequences)), top)\n",
    "\n"
   ]
  },
  {
   "attachments": {},
   "cell_type": "markdown",
   "metadata": {
    "id": "MEBziFExmarX"
   },
   "source": [
    "6\\. Ulitser la base YEASTRACT : http://www.yeastract.com/formsearchbydnamotif.php pour chercher les motifs. \n",
    "Avez vous une indication pour le facteur de transcription impliqué ?\n"
   ]
  },
  {
   "cell_type": "code",
   "execution_count": 9,
   "metadata": {
    "id": "ORwePIySLfa9"
   },
   "outputs": [
    {
     "ename": "SyntaxError",
     "evalue": "invalid syntax (3138962252.py, line 1)",
     "output_type": "error",
     "traceback": [
      "\u001b[1;36m  Cell \u001b[1;32mIn[9], line 1\u001b[1;36m\u001b[0m\n\u001b[1;33m    Pour 'CAAACTG': 515 On obtient le résultat :\u001b[0m\n\u001b[1;37m         ^\u001b[0m\n\u001b[1;31mSyntaxError\u001b[0m\u001b[1;31m:\u001b[0m invalid syntax\n"
     ]
    }
   ],
   "source": [
    "Pour 'CAAACTG': 515 On obtient le résultat :\n",
    "Considering 0 substitutions.\n",
    "Motif 'CAAACTG' inside scerevisiae binding sites\n",
    "Binding Site\tTF\tStrand\tPosition\n",
    "TNNCGTNNNNNNTGAT\tAbf1p \tFwr\tPos: 8\n",
    "ATCANNNNNNACGNNA\tAbf1p \tRev\tPos: 8\n",
    "NGAANNNNNNNGAANNNNNNNGAAN\tHsf1p \tFwr\tPos: 8, 8, 8, 8\n",
    "NTTCNNNNNNNTTCNNNNNNNTTCN\tHsf1p \tRev\tPos: 8, 8, 8, 8\n",
    "TTCNNGAANNNNNNNGAA\tHsf1p \tFwr\tPos: 8, 8\n",
    "TTCNNNNNNNTTCNNGAA\tHsf1p \tRev\tPos: 8, 8\n",
    "TTCNNNNNNNTTCNNGAA\tHsf1p \tFwr\tPos: 8, 8\n",
    "TTCNNGAANNNNNNNGAA\tHsf1p \tRev\tPos: 8, 8\n",
    "TTCNNNNNNNTTCNNNNNNNTTC\tHsf1p \tFwr\tPos: 8, 8, 8, 8\n",
    "GAANNNNNNNGAANNNNNNNGAA\tHsf1p \tRev\tPos: 8, 8, 8, 8\n",
    "GAANNNNNNNGAANNNNNNNGAA\tHsf1p \tFwr\tPos: 8, 8, 8, 8\n",
    "TTCNNNNNNNTTCNNNNNNNTTC\tHsf1p \tRev\tPos: 8, 8, 8, 8\n",
    "TTCTTCNNNNNNNTTC\tHsf1p \tFwr\tPos: 8, 8\n",
    "GAANNNNNNNGAAGAA\tHsf1p \tRev\tPos: 8, 8\n",
    "TTWCCYAAWNNGGWAAWW\tMcm1p \tFwr\tPos: 8\n",
    "DCCYWWWNNRG\tMcm1p \tFwr\tPos: 8\n",
    "CCYWWWNNRG\tMcm1p \tFwr\tPos: 8\n",
    "GTTTCANNNTGAAAC\tSte12p \tFwr\tPos: 8\n",
    "GTTTCANNNTGAAAC\tSte12p \tRev\tPos: 8\n",
    "CGGGGTGNNNNNNNCGCACCG\tStp2p \tFwr\tPos: 8\n",
    "CGGTGCGNNNNNNNCACCCCG\tStp2p \tRev\tPos: 8\n",
    "CGGNNNNNNNNCGG\tGsm1p \tFwr\tPos: 8, 8\n",
    "CCGNNNNNNNNCCG\tGsm1p \tRev\tPos: 8, 8\n",
    "CGGNNNNNNNNNCGG\tGsm1p \tFwr\tPos: 8, 8, 8\n",
    "CCGNNNNNNNNNCCG\tGsm1p \tRev\tPos: 8, 8, 8\n",
    " \n",
    "scerevisiae binding sites inside inserted motif 'CAAACTG'\n",
    "No matches found!\n",
    "\n",
    "\n",
    "Pour 'AAACTGG': 562 on obtient:\n",
    "\n",
    "Considering 0 substitutions.\n",
    "Motif 'AAACTGG' inside scerevisiae binding sites\n",
    "Binding Site\tTF\tStrand\tPosition\n",
    "ATCANNNNNNACGNNA\tAbf1p \tRev\tPos: 8\n",
    "NGAANNNNNNNGAANNNNNNNGAAN\tHsf1p \tFwr\tPos: 8, 8, 8, 8, 8, 8, 8, 8\n",
    "NTTCNNNNNNNTTCNNNNNNNTTCN\tHsf1p \tRev\tPos: 8, 8\n",
    "TTCNNGAANNNNNNNGAA\tHsf1p \tFwr\tPos: 8, 8, 8, 8\n",
    "TTCNNNNNNNTTCNNGAA\tHsf1p \tRev\tPos: 8\n",
    "TTCNNNNNNNTTCNNGAA\tHsf1p \tFwr\tPos: 8\n",
    "TTCNNGAANNNNNNNGAA\tHsf1p \tRev\tPos: 8, 8, 8, 8\n",
    "TTCNNNNNNNTTCNNNNNNNTTC\tHsf1p \tFwr\tPos: 8, 8\n",
    "GAANNNNNNNGAANNNNNNNGAA\tHsf1p \tRev\tPos: 8, 8, 8, 8, 8, 8, 8, 8\n",
    "GAANNNNNNNGAANNNNNNNGAA\tHsf1p \tFwr\tPos: 8, 8, 8, 8, 8, 8, 8, 8\n",
    "TTCNNNNNNNTTCNNNNNNNTTC\tHsf1p \tRev\tPos: 8, 8\n",
    "TTCTTCNNNNNNNTTC\tHsf1p \tFwr\tPos: 8\n",
    "GAANNNNNNNGAAGAA\tHsf1p \tRev\tPos: 8, 8, 8, 8\n",
    "TTWCCYAAWNNGGWAAWW\tMcm1p \tFwr\tPos: 8\n",
    "DCCYWWWNNRG\tMcm1p \tFwr\tPos: 8\n",
    "CCYWWWNNRG\tMcm1p \tFwr\tPos: 8\n",
    "ATAAAACTGGGG\tMig1p Mig2p Mig3p \tFwr\tPos: 8\n",
    "CGGGGTGNNNNNNNCGCACCG\tStp2p \tFwr\tPos: 8\n",
    "CGGTGCGNNNNNNNCACCCCG\tStp2p \tRev\tPos: 8\n",
    "CGGNNNNNNNNCGG\tGsm1p \tFwr\tPos: 8, 8\n",
    "CCGNNNNNNNNCCG\tGsm1p \tRev\tPos: 8, 8\n",
    "CGGNNNNNNNNNCGG\tGsm1p \tFwr\tPos: 8, 8, 8\n",
    "CCGNNNNNNNNNCCG\tGsm1p \tRev\tPos: 8, 8, 8\n",
    "YAANNCAAANNCNGNYT\tKar4p \tFwr\tPos: 8\n",
    "ARNCNGNNTTTGNNTTR\tKar4p \tRev\tPos: 8\n",
    "CTAANNCAAANNCNGNYT\tKar4p \tFwr\tPos: 8\n",
    "ARNCNGNNTTTGNNTTAG\tKar4p \tRev\tPos: 8\n",
    "TTAANNCAAANNCNGNYT\tKar4p \tFwr\tPos: 8\n",
    "ARNCNGNNTTTGNNTTAA\tKar4p \tRev\tPos: 8\n",
    " \n",
    "scerevisiae binding sites inside inserted motif 'AAACTGG'\n",
    "No matches found!\n",
    "\n",
    "\n",
    "Pour 'AACTGGC': 303 on obtient:\n",
    "\n",
    "Considering 0 substitutions.\n",
    "Motif 'AACTGGC' inside scerevisiae binding sites\n",
    "Binding Site\tTF\tStrand\tPosition\n",
    "ATCANNNNNNACGNNA\tAbf1p \tRev\tPos: 8\n",
    "NGAANNNNNNNGAANNNNNNNGAAN\tHsf1p \tFwr\tPos: 8, 8, 8, 8, 8, 8\n",
    "NTTCNNNNNNNTTCNNNNNNNTTCN\tHsf1p \tRev\tPos: 8, 8\n",
    "TTCNNGAANNNNNNNGAA\tHsf1p \tFwr\tPos: 8, 8, 8\n",
    "TTCNNNNNNNTTCNNGAA\tHsf1p \tRev\tPos: 8\n",
    "TTCNNNNNNNTTCNNGAA\tHsf1p \tFwr\tPos: 8\n",
    "TTCNNGAANNNNNNNGAA\tHsf1p \tRev\tPos: 8, 8, 8\n",
    "TTCNNNNNNNTTCNNNNNNNTTC\tHsf1p \tFwr\tPos: 8, 8\n",
    "GAANNNNNNNGAANNNNNNNGAA\tHsf1p \tRev\tPos: 8, 8, 8, 8, 8, 8\n",
    "GAANNNNNNNGAANNNNNNNGAA\tHsf1p \tFwr\tPos: 8, 8, 8, 8, 8, 8\n",
    "TTCNNNNNNNTTCNNNNNNNTTC\tHsf1p \tRev\tPos: 8, 8\n",
    "TTCTTCNNNNNNNTTC\tHsf1p \tFwr\tPos: 8\n",
    "GAANNNNNNNGAAGAA\tHsf1p \tRev\tPos: 8, 8, 8\n",
    "CGGGGTGNNNNNNNCGCACCG\tStp2p \tFwr\tPos: 8, 8\n",
    "CGGTGCGNNNNNNNCACCCCG\tStp2p \tRev\tPos: 8, 8\n",
    "CGGNNNNNNNNCGG\tGsm1p \tFwr\tPos: 8, 8, 8\n",
    "CCGNNNNNNNNCCG\tGsm1p \tRev\tPos: 8, 8, 8\n",
    "CGGNNNNNNNNNCGG\tGsm1p \tFwr\tPos: 8, 8, 8, 8\n",
    "CCGNNNNNNNNNCCG\tGsm1p \tRev\tPos: 8, 8, 8, 8\n",
    "YAANNCAAANNCNGNYT\tKar4p \tFwr\tPos: 8\n",
    "ARNCNGNNTTTGNNTTR\tKar4p \tRev\tPos: 8\n",
    "CTAANNCAAANNCNGNYT\tKar4p \tFwr\tPos: 8\n",
    "ARNCNGNNTTTGNNTTAG\tKar4p \tRev\tPos: 8\n",
    "TTAANNCAAANNCNGNYT\tKar4p \tFwr\tPos: 8\n",
    "ARNCNGNNTTTGNNTTAA\tKar4p \tRev\tPos: 8\n",
    " \n",
    "scerevisiae binding sites inside inserted motif 'AACTGGC'\n",
    "No matches found!"
   ]
  }
 ],
 "metadata": {
  "colab": {
   "provenance": []
  },
  "kernelspec": {
   "display_name": "Python 3",
   "language": "python",
   "name": "python3"
  },
  "language_info": {
   "codemirror_mode": {
    "name": "ipython",
    "version": 3
   },
   "file_extension": ".py",
   "mimetype": "text/x-python",
   "name": "python",
   "nbconvert_exporter": "python",
   "pygments_lexer": "ipython3",
   "version": "3.11.3"
  },
  "vscode": {
   "interpreter": {
    "hash": "2617646512738a11427f2e54fd23fb37902578960f9f4c6ef64bb9303c2eb602"
   }
  }
 },
 "nbformat": 4,
 "nbformat_minor": 1
}
