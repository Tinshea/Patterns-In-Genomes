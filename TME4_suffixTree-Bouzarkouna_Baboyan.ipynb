{
  "cells": [
    {
      "attachments": {},
      "cell_type": "markdown",
      "metadata": {
        "id": "lRIv7xNV0nf9"
      },
      "source": [
        "# TME 4 : Suffix Trees\n",
        "\n",
        "\n",
        "## Recheche de pattern (motifs) en utilisant les suffix trees\n",
        "\n",
        "Nous allons utiliser l'algorithme suffix-tree pour une recherche rapide et éfficace de motifs. Un suffix-tree est construit à partir d'un jeux de séquences, ensuite nous pouvons rechercher le motif en temps O(k) où k est la longueur du motif."
      ]
    },
    {
      "attachments": {},
      "cell_type": "markdown",
      "metadata": {},
      "source": [
        "Nom Etudiant 1: BOUZARKOUNA Malek\n",
        "<br>\n",
        "Nom Etudiant 2: BABOYAN Sevag"
      ]
    },
    {
      "attachments": {},
      "cell_type": "markdown",
      "metadata": {
        "id": "p2zEyqSq0nf_"
      },
      "source": [
        "1\\. Nous allons réutiliser les fonctions du TMEs precedents pour générer ``t`` séquences artificielles de taille ``n``, et implanter dans chaque séquence un motif de taille ``k`` à des positions aléatoires avec ``v`` substitutions choisies aléatoirement. Cependant, les ``t`` séquences artificielles initiales (sans implantation) ainsi que le motif initial (sans variation/mutation) doivent être générées une seule fois. Ensuite, selon chaque question, nous introduisons des différentes variation au motif initial et les implantons dans les séquences initiales afin de générer des nouveau jeux de données. "
      ]
    },
    {
      "cell_type": "code",
      "execution_count": 252,
      "metadata": {
        "id": "VagWKovI0ngA"
      },
      "outputs": [],
      "source": [
        "import random\n",
        "import numpy as np\n",
        "\n",
        "nuc = ('A', 'C', 'G', 'T')\n",
        "\n",
        "k=8 #taille de motif\n",
        "v=0 #nb de positions variables dans le motif\n",
        "t=5 #nb de sequences\n",
        "n=100 #longuer des sequence\n",
        "f=0.9\n"
      ]
    },
    {
      "attachments": {},
      "cell_type": "markdown",
      "metadata": {
        "id": "N39jNZyt0ngC"
      },
      "source": [
        "1.1\\. Generer les séquences artificielles initiales et implanter un motif (sans variation, v=0)"
      ]
    },
    {
      "cell_type": "code",
      "execution_count": 253,
      "metadata": {
        "id": "3Vgz0SW71WtP"
      },
      "outputs": [
        {
          "name": "stdout",
          "output_type": "stream",
          "text": [
            "['gatctacagagccggtggcacacctatcaccttcgatacccgggatcggctgcgactccagtctaacgctgaatgaactgacacgattgtgcagggaatg', 'agtgagaggataaaaaagataagagcgtcctgaatacggcgcggttgtgcagccatgtacaaactcataggtctcagcgttcatggcgacaggaaaccgg', 'ggttttcgctacttTTGTGCAGcctcgctgcaactagaagctaccgcgctgcaacatagcccccgcgagtgagccacgagcttcagagggcccccaaacg', 'gtcacgcaagcgtttttgtgcaggctatgcctcgaggtgggtgcaggccgaggaaattatcgtgcgtggttcgcgcataaaccgcgtagccccaaaggcg', 'ttatgaggcgtctctctaataaatttcagcatattgtgcaggcacgcatggccgtgcctgattgtgcccagatccgtgattggcgcaatagcactgtagt', 'attgtcgctggaattgtgaagaaattccctggccactaacttctggtagtccaatcctgccgcccagtcgagctatcacttgtgcaggccggtattaata', 'ttcgggggttcatgtgcgctagataacgtacagagtggtaagcagtcgttcgacggctgttctcgTTGTGCAGcaatcgctgttctcaaataattgcggc', 'tgccttgtattagtttgtgcagctacaggacctgtgccgcaaaccacggttgggctatccaaggtttgccctagcgagtacagcgcccacaactttgccc']\n",
            "['GATCTACAGAGCCGGTGGCACACCTATCACCTTCGATACCCGGGATCGGCTGCGACTCCAGTCTAACGCTGAATGAACTGACACGATTGTGCAGGGAATG', 'AGTGAGAGGATAAAAAAGATAAGAGCGTCCTGAATACGGCGCGGTTGTGCAGCCATGTACAAACTCATAGGTCTCAGCGTTCATGGCGACAGGAAACCGG', 'GGTTTTCGCTACTTTTGTGCAGCCTCGCTGCAACTAGAAGCTACCGCGCTGCAACATAGCCCCCGCGAGTGAGCCACGAGCTTCAGAGGGCCCCCAAACG', 'GTCACGCAAGCGTTTTTGTGCAGGCTATGCCTCGAGGTGGGTGCAGGCCGAGGAAATTATCGTGCGTGGTTCGCGCATAAACCGCGTAGCCCCAAAGGCG', 'TTATGAGGCGTCTCTCTAATAAATTTCAGCATATTGTGCAGGCACGCATGGCCGTGCCTGATTGTGCCCAGATCCGTGATTGGCGCAATAGCACTGTAGT', 'ATTGTCGCTGGAATTGTGAAGAAATTCCCTGGCCACTAACTTCTGGTAGTCCAATCCTGCCGCCCAGTCGAGCTATCACTTGTGCAGGCCGGTATTAATA', 'TTCGGGGGTTCATGTGCGCTAGATAACGTACAGAGTGGTAAGCAGTCGTTCGACGGCTGTTCTCGTTGTGCAGCAATCGCTGTTCTCAAATAATTGCGGC', 'TGCCTTGTATTAGTTTGTGCAGCTACAGGACCTGTGCCGCAAACCACGGTTGGGCTATCCAAGGTTTGCCCTAGCGAGTACAGCGCCCACAACTTTGCCC']\n"
          ]
        }
      ],
      "source": [
        "def insertMotif(sequence, motif, position):\n",
        "    return sequence[:position] + motif + sequence[position:]\n",
        "\n",
        "def generateRandomSequence(n, upper=True):\n",
        "    \"\"\"\n",
        "    Génère une séquence nucléotidique aléatoire \n",
        "    entrée n : longueur de la sequence\n",
        "    entrée upper : bool, si True les nucléotides seront en majuscule, False minuscule\n",
        "    sortie sequence : une séquence nucléotidique aléatoire \n",
        "    \"\"\"\n",
        "    sequence = \"\"\n",
        "    for i in range(n):\n",
        "        sequence += random.choice(nuc).upper() if not(upper) else random.choice(nuc).lower()\n",
        "   \n",
        "    return sequence\n",
        "\n",
        "def modifierMotif(motif, nbpos,  upper=True):\n",
        "    \"\"\"\n",
        "    Modifie nbpos positions d'un motif aléatoirement \n",
        "    entrée motif: motif à modifier\n",
        "    entrée nbpos: nombre de positions\n",
        "    entrée upper : bool, si True les nucléotides modifiés seront majuscule, False minuscule\n",
        "    sortie motifM: motif modifié\n",
        "    \"\"\"\n",
        "    motifM = list(motif)\n",
        "    for i in range(nbpos):\n",
        "        motifM[random.randint(0,len(motifM)-1)]= random.choice(nuc)\n",
        "    \n",
        "    return \"\".join(motifM).upper() if not(upper) else \"\".join(motifM).lower()\n",
        "\n",
        "\n",
        "\n",
        "def implantMotifVar(k, v, t, n, f):\n",
        "    \"\"\"\n",
        "    Génère des séquences aléatoires et les implante des motifs variables (un motif par séquence)\n",
        "    entrée k: taille du motif\n",
        "    entrée v: nombre de variations\n",
        "    entrée t : nombre de séquences \n",
        "    entrée n : longueur des séquences\n",
        "    entrée f : frequence de variation du motif.\n",
        "    sortie DNA : matrice de dimension txn avec les motifs implantés\n",
        "    REMARQUE : La taille totale des séquences plus motif doit être égal à t, pensez à générer de séquence aléatoire de taille t-k pour pouvoir implanter un motif de taille k\n",
        "    \"\"\"\n",
        "    motif = generateRandomSequence(k,False)\n",
        "    sequences = [generateRandomSequence(n - k) for i in range(k)]\n",
        "\n",
        "    for i in range(k):\n",
        "        newmotif = motif\n",
        "        if (random.random() < f):\n",
        "            newmotif = modifierMotif(motif, v)\n",
        "        sequences[i] = insertMotif(sequences[i],newmotif , random.randint(0, n - k))\n",
        "    return sequences\n",
        "\n",
        "adn = implantMotifVar(k, v, t, n, f)\n",
        "print (adn)\n",
        "\n",
        "adn  = [s.upper() for s in adn]\n",
        "print (adn)"
      ]
    },
    {
      "attachments": {},
      "cell_type": "markdown",
      "metadata": {
        "id": "u27bZ9zV0ngE"
      },
      "source": [
        "2\\. Définissez une fonction ``construct_tree`` pour construire un suffix tree à partir des séquences artificielles (après implantation) en utilisant le python package suffix-trees trouvable ici: https://pypi.org/project/suffix-trees/. Tester si votre fonction est capable de trouver le motif sans variation implanté."
      ]
    },
    {
      "cell_type": "code",
      "execution_count": 254,
      "metadata": {
        "id": "sDeaGF8V11ew"
      },
      "outputs": [
        {
          "name": "stdout",
          "output_type": "stream",
          "text": [
            "Requirement already satisfied: suffix-trees in c:\\users\\user\\appdata\\local\\packages\\pythonsoftwarefoundation.python.3.11_qbz5n2kfra8p0\\localcache\\local-packages\\python311\\site-packages (0.3.0)\n"
          ]
        }
      ],
      "source": [
        "!pip install suffix-trees"
      ]
    },
    {
      "cell_type": "code",
      "execution_count": 255,
      "metadata": {
        "id": "BDYzYIcY0ngF"
      },
      "outputs": [
        {
          "name": "stdout",
          "output_type": "stream",
          "text": [
            "0\n",
            "{0, 8}\n",
            "{3, 6, 11, 12, 526, 527, 528, 18, 532, 533, 20, 535, 22, 23, 539, 27, 29, 30, 542, 33, 38, 39, 40, 550, 551, 555, 556, 46, 559, 560, 49, 562, 563, 52, 564, 55, 568, 57, 58, 572, 62, 576, 66, 578, 68, 584, 588, 77, 589, 81, 83, 602, 91, 610, 616, 618, 626, 630, 125, 128, 129, 642, 646, 136, 650, 139, 653, 141, 656, 661, 149, 663, 152, 153, 670, 159, 673, 163, 165, 677, 679, 172, 684, 174, 686, 177, 181, 696, 186, 699, 189, 702, 703, 196, 197, 206, 719, 208, 722, 211, 725, 730, 219, 731, 222, 223, 736, 225, 737, 227, 739, 230, 743, 744, 233, 746, 240, 754, 243, 244, 246, 758, 248, 759, 251, 254, 768, 769, 770, 259, 260, 261, 262, 263, 774, 265, 780, 783, 785, 786, 787, 273, 789, 274, 276, 280, 792, 283, 797, 798, 799, 290, 291, 292, 293, 294, 298, 302, 304, 306, 310, 320, 324, 329, 330, 332, 343, 347, 348, 360, 364, 371, 373, 375, 381, 382, 384, 389, 390, 391, 392, 398, 408, 411, 413, 415, 426, 429, 438, 442, 444, 446, 451, 452, 456, 457, 466, 467, 468, 473, 474, 483, 485, 491, 493, 505, 507}\n"
          ]
        }
      ],
      "source": [
        "from suffix_trees import STree\n",
        "\n",
        "st = STree.STree(\"abcdefghab\")\n",
        "print(st.find(\"abc\")) # 0\n",
        "print(st.find_all(\"ab\")) # [0, 8]\n",
        "\n",
        "def construct_tree(sequences):\n",
        "    \"\"\"\n",
        "    construire un abre de suffixe\n",
        "    entrée1 : matrice de dimension txn avec les sequences\n",
        "    sortie1 : arbre de suffixe\n",
        "    REMARK: Vous devez concatener toutes les sequences de la matrice avant d'appeller la fonction STree\n",
        "    \"\"\"\n",
        "    text = ''\n",
        "    for string in sequences : \n",
        "        text += string \n",
        "    return STree.STree(text)\n",
        "\n",
        "tree = construct_tree(adn)\n",
        "fix_motif = 'C' #changer pour un teste rapide\n",
        "print(tree.find_all(fix_motif))\n"
      ]
    },
    {
      "attachments": {},
      "cell_type": "markdown",
      "metadata": {
        "id": "rdSlwIl00ngH"
      },
      "source": [
        "3\\. Avant de chercher les motifs, implémentez ou reutilisez les fonctions pour générer tous les motifs (k-mer) possibles de taille k, en éliminant les motifs peu complexe pour éviter les calculs inutiles."
      ]
    },
    {
      "cell_type": "code",
      "execution_count": 256,
      "metadata": {
        "id": "3uxo3Y6j0ngI"
      },
      "outputs": [
        {
          "name": "stdout",
          "output_type": "stream",
          "text": [
            "65536\n",
            "64416\n",
            "AAAAACCC\n"
          ]
        }
      ],
      "source": [
        "def kmerList(allkmers):\n",
        "    validKmers = []\n",
        "    for i in allkmers:\n",
        "        kmer = \"\".join(i)\n",
        "        validKmers.append(kmer)\n",
        "    return validKmers\n",
        "\n",
        "\"\"\n",
        "def removeLowComplexe(motifs, minrep):\n",
        "    validMotif = []\n",
        "    double_consecutif=0\n",
        "    for key in motifs:\n",
        "        for i in range(0,len(key)-3):\n",
        "            if (key[i] == key[i+2] and key[i+1] == key[i+3]):\n",
        "                double_consecutif=0\n",
        "            else:\n",
        "                double_consecutif=1\n",
        "                break\n",
        "        if not(double_consecutif == 0 or ((key.lower()).count('a') >  minrep) or  ((key.lower()).count('t') >  minrep) or  ((key.lower()).count('c') >  minrep) or  ((key.lower()).count('g') >  minrep)):\n",
        "            validMotif.append(key)\n",
        "    return validMotif\n",
        "\n",
        "\n",
        "from itertools import product\n",
        "allkmers = product(nuc, repeat=k)\n",
        "kmers = kmerList(allkmers)\n",
        "\n",
        "print (len(kmers))\n",
        "kmersValid = removeLowComplexe(kmers, 5)\n",
        "print (len(kmersValid))\n",
        "print (kmersValid[0])\n"
      ]
    },
    {
      "attachments": {},
      "cell_type": "markdown",
      "metadata": {
        "id": "AhKHuWkE0ngK"
      },
      "source": [
        "4\\. **Exact matching:** Définissez la fonction ``exact_match`` qui cherche dans le suffix tree tous les motifs possibles (k-mers), générés à la question precedent. La fonction renvoie un dictionnaire qui contient les motifs (clés) et leurs nombre d'occurrence (valeurs). Ce dictionnaire doit être trié par nombre d'occurrences. \n",
        "\n",
        "Ensuite, trouvez et affichez les 10 motifs plus fréquents dans notre jeux de données artificiels."
      ]
    },
    {
      "cell_type": "code",
      "execution_count": 257,
      "metadata": {
        "id": "pUmfblsq0ngL"
      },
      "outputs": [
        {
          "name": "stdout",
          "output_type": "stream",
          "text": [
            "{'TTGTGCAG': 8, 'GTGCAGGC': 4, 'TGTGCAGC': 4, 'TGTGCAGG': 4, 'TTTGTGCA': 3, 'ATTGTGCA': 2, 'CGCTGCAA': 2, 'CTGTTCTC': 2, 'GATTGTGC': 2, 'GCAGGCCG': 2}\n"
          ]
        }
      ],
      "source": [
        "def getTopMotifs(motifs:dict(), top:int):\n",
        "    \"\"\"\n",
        "    renvoyer les top motifs le plus frequent\n",
        "    entrée motifs: dictionnaire de motifs, clé=motif, valeur = fréquence d'observation\n",
        "    entrée top : les top plus frequent \n",
        "    sortie motifsfreq: dictionnaire contenant les top motifs les plus fréquents, clé=motif, valeur = fréquence d'observation\n",
        "    >>>getTopMotifs({'TAA': 3, 'AAG': 1, 'AGT': 1, 'GTA': 1, 'TAT': 2, 'ATA': 1, 'CTA': 1, 'ATC': 1}, 2)\n",
        "    {'TAA': 3, 'TAT': 2}\n",
        "    \"\"\"      \n",
        "    return dict(sorted(motifs.items(),key=lambda x:x[1],reverse=True)[:top])\n",
        "\n",
        "def exact_match(kmersV, stree):\n",
        "    \"\"\"\n",
        "    Cherche dans le suffix tree tous les motifs possibles\n",
        "    entrée1 kmersV: Liste de Kmers à chercher\n",
        "    entrée2 stree: suffix tree\n",
        "    sortie1 motif_occur_sorted: dictionnaire qui contient les motifs (clés) et leurs nombre d'occurrences (values).\n",
        "    \"\"\"\n",
        "    motif_occur_sorted = {}\n",
        "    for kmer in kmersV :\n",
        "        motif_occur_sorted[kmer] = len(stree.find_all(kmer))\n",
        "    return dict(sorted(motif_occur_sorted.items(), key=lambda x: x[1], reverse=True))\n",
        "\n",
        "\n",
        "st = construct_tree(adn)\n",
        "motif_occur_sorted = exact_match(kmersValid, st)\n",
        "print (getTopMotifs(motif_occur_sorted,10))\n",
        "\n"
      ]
    },
    {
      "attachments": {},
      "cell_type": "markdown",
      "metadata": {
        "id": "HrSnp3Q70ngM"
      },
      "source": [
        "5\\. Introduisez deux variation (v=2) au motif initial. Pour cela avant de chaque implantation, créez d'abord un motif varié (avec v substitutions choisies aléatoirement) à partir du motif initial et puis implantez-le dans une séquence. Repetez pour chaque sequence dans le Jeux de donnée. Il suffit de mettre ``v`` égal ``2`` et réutiliser les fonctions définies à la question 1."
      ]
    },
    {
      "cell_type": "code",
      "execution_count": 258,
      "metadata": {
        "id": "OqVEMgjW0ngN"
      },
      "outputs": [],
      "source": [
        "v=2\n",
        "\n",
        "def implantMotif(k,v,t,n,f) :\n",
        "    motif = generateRandomSequence(k,False)\n",
        "    sequences = [generateRandomSequence(n - k,False) for i in range(k)]\n",
        "    seqOri = []\n",
        "    for i in range(t):\n",
        "        newmotif = motif\n",
        "        seqOri.append(sequences[i])\n",
        "        if (random.random() < f):\n",
        "            newmotif = modifierMotif(motif, v,False)\n",
        "        sequences[i] = insertMotif(sequences[i],newmotif , random.randint(0, n - k))\n",
        "    return seqOri,sequences,motif\n",
        "    \n",
        "adnOri, adn,  fix_motif = implantMotif(k, v, t, n,f)"
      ]
    },
    {
      "attachments": {},
      "cell_type": "markdown",
      "metadata": {
        "id": "1RGyKcwP0ngN"
      },
      "source": [
        "6\\. Construisez le suffix tree à nouveau à partir des nouvelles séquences en utilisant le python package suffix-trees."
      ]
    },
    {
      "cell_type": "code",
      "execution_count": 259,
      "metadata": {
        "id": "xN70Hhtt0ngO"
      },
      "outputs": [],
      "source": [
        "st = construct_tree(adn)"
      ]
    },
    {
      "attachments": {},
      "cell_type": "markdown",
      "metadata": {
        "id": "ZVbMQGFX0ngO"
      },
      "source": [
        "7\\. **Inexact matching:** \n",
        "\n",
        "Définissez fonction ``inexact_match`` qui cherche tous les motifs possibles (k-mers) générés à la question 2 dans le nouveau suffix tree donné (construit à partir des nouvelle séquences qui incluent le motif varié), et renvoie un dictionnaire qui contient les motifs (keys) et les listes de toutes leurs variations (values) ainsi que le meilleur motif variable. Il faut que vous utilisiez la technique *seed* pour trouver le motif variable. \n",
        "\n",
        "Ensuite, affichez le meilleur motif variable avec toutes son variation dans notre nouveaux jeux de données artificiels.\n",
        "***Transformer en deux fonction separer, une pour for motif et autre for seed***"
      ]
    },
    {
      "cell_type": "code",
      "execution_count": 260,
      "metadata": {
        "id": "P9Zg_PCh0ngO"
      },
      "outputs": [
        {
          "data": {
            "text/plain": [
              "{'banbna': 2, 'banana': 1}"
            ]
          },
          "execution_count": 260,
          "metadata": {},
          "output_type": "execute_result"
        }
      ],
      "source": [
        "\n",
        "{'banbna': 2, 'banana': 1}"
      ]
    },
    {
      "cell_type": "code",
      "execution_count": 261,
      "metadata": {
        "id": "IJ1qE29o0ngP"
      },
      "outputs": [
        {
          "name": "stdout",
          "output_type": "stream",
          "text": [
            "{'banbna': 2, 'banana': 1}\n"
          ]
        }
      ],
      "source": [
        "def hamdist(str1:str, str2:str):\n",
        "    \"\"\"\n",
        "    Calcul la distance de hamming entre deux chaînes de caractères\n",
        "    entrée str1: chaîne de caractères\n",
        "    entrée str2: chaîne de caractères\n",
        "    sortie distance: distance de hamming\n",
        "    \"\"\"\n",
        "    diffs = 0\n",
        "    for i in range(len(str1)):\n",
        "        if (str1[i] != str2[i]):\n",
        "            diffs+=1\n",
        "\n",
        "    return diffs\n",
        "\n",
        "def inexact_match(kmersV, sequences, stree, v):\n",
        "    \"\"\"\n",
        "    cherche de motif variables dans un suffix tree\n",
        "    entrée1 kmersV: liste de motifs à chercher\n",
        "    entrée2 sequences: matrice de dimension txn avec les sequences\n",
        "    entrée3 stree: suffix Tree\n",
        "    entrée4 v: nombre de variations dans le motifs\n",
        "    sortie1 motif_occur_sorted: dictionnaire clés=sequence consensus des motifs; value= nombre d'occurrences.\n",
        "    \"\"\"\n",
        "    motif_occur = {}\n",
        "    Ns = v+1 #nombre de seed\n",
        "    k = len(kmersV[0])\n",
        "    Ls = k//Ns #taille du motif\n",
        "    \n",
        "    for seq in sequences:\n",
        "        for kmer in kmersV:\n",
        "            for i in range(Ns-1):\n",
        "                seed = kmer[i*Ls:i*Ls+Ls]\n",
        "                candidateIndex = stree.find_all(seed)\n",
        "                for j in candidateIndex:\n",
        "                    candidateText = seq[j-i*Ls:j+k-i*Ls]\n",
        "                    if (len(candidateText) == k) and hamdist(kmer,candidateText) <= v :\n",
        "                        motif_occur[candidateText] = len(stree.find_all(candidateText))\n",
        "\n",
        "    # trier le dictionnaire par ordre décroissant du nombre d'occurrences\n",
        "    motif_occur_sorted = dict(sorted(motif_occur.items(), key=lambda x: x[1], reverse=True))\n",
        "    \n",
        "    return motif_occur_sorted\n",
        "\n",
        "#Test\n",
        "seqTest = \"banananabanbnaabanbna\"\n",
        "st = construct_tree([seqTest])\n",
        "k=6\n",
        "motif_occur_sorted = inexact_match(['banbna'], [seqTest], st, 1)\n",
        "print(motif_occur_sorted)\n",
        "\n"
      ]
    },
    {
      "attachments": {},
      "cell_type": "markdown",
      "metadata": {
        "id": "5ABb0l6D0ngQ"
      },
      "source": [
        "8\\. Créez le motif logo à partir des séquences du meilleur motif variable que vouz venez de trouver. Vous pouvez utilizer ce site: https://weblogo.berkeley.edu/logo.cgi. Affichez votre logo ci-dessous."
      ]
    },
    {
      "cell_type": "code",
      "execution_count": 262,
      "metadata": {},
      "outputs": [
        {
          "name": "stdout",
          "output_type": "stream",
          "text": [
            "CGAACGGT\n",
            "{'CTAACGGT': 2, 'CGTAAGGT': 1, 'CGTACGAT': 1, 'CAAACGGT': 1, 'CGACCGGG': 1}\n"
          ]
        }
      ],
      "source": [
        "st = construct_tree(adn)\n",
        "motif_occur_sorted = inexact_match([fix_motif], adn, st, v)\n",
        "print(fix_motif)\n",
        "print(motif_occur_sorted)"
      ]
    },
    {
      "attachments": {},
      "cell_type": "markdown",
      "metadata": {
        "id": "tXYeF8IY0ngQ"
      },
      "source": [
        "https://weblogo.berkeley.edu/cache/filep3gv4i.png"
      ]
    },
    {
      "attachments": {},
      "cell_type": "markdown",
      "metadata": {
        "id": "acxgFV6b0ngQ"
      },
      "source": [
        "9\\. Avez-vous réussi à trouver votre motif initial implanté en séquences? l'algorithme était-il rapide? Quelle est la complexité de chaque recherche de motif?"
      ]
    },
    {
      "attachments": {},
      "cell_type": "markdown",
      "metadata": {
        "id": "XZZ_TLV9ePVF"
      },
      "source": [
        "On le trouve en générale à une variation près. l'algorithme vu d'un humain est trés rapide (0.0s) mais si on regarde la compléxité de cette fonction est O(len(kmersV) * (v+1) * (m * log n)), où n est égal à la longueur de la chaîne de texte et m est égal à la longueur de la chaîne de motif."
      ]
    },
    {
      "attachments": {},
      "cell_type": "markdown",
      "metadata": {
        "id": "NAygy1d00ngR"
      },
      "source": [
        "10\\. Tester l'algorithme  suffix tree sur vos données de chipSeq. Puis générér le LOGO du motif trouvé"
      ]
    },
    {
      "cell_type": "code",
      "execution_count": 263,
      "metadata": {
        "id": "kPIHUtnb0ngR"
      },
      "outputs": [],
      "source": [
        "def readFasta(genome):\n",
        "    sequence = []\n",
        "    file = open(genome, \"r\")\n",
        "    sequences = []\n",
        "    seq = \"\"\n",
        "    for s in file:\n",
        "        if s[0] != \">\":\n",
        "            seq += s.strip().upper()\n",
        "        else:\n",
        "            sequences.append(seq)\n",
        "            seq = \"\"\n",
        "    return sequences[1:]\n",
        "genome = \"Sequence_by_Peaks_3.fasta\"\n",
        "sequences = readFasta(genome)"
      ]
    },
    {
      "cell_type": "code",
      "execution_count": 264,
      "metadata": {},
      "outputs": [
        {
          "name": "stdout",
          "output_type": "stream",
          "text": [
            "{'CTGATTGG': 13, 'CTCATTGG': 11, 'CAAAAAAA': 8, 'GTGATTGG': 7, 'CAGCCAAT': 6, 'AAGCAAAT': 5, 'TTCATTGT': 5, 'TTTGCTTT': 5, 'TTTGTTCC': 5, 'CACAGTGG': 5, 'CTTATTGG': 5, 'CTTCAAAA': 5, 'TTTTTTCA': 5, 'CTGTTTGG': 4, 'AAGAAAAA': 4, 'TAGTAAAA': 4, 'ATTGGTCA': 4, 'TTTACCCA': 4, 'AATCAAAA': 4, 'TTTTCACA': 4, 'CCTATTGG': 4, 'CTATTTGG': 4, 'ATTGCTCT': 4, 'TCTGATCA': 4, 'CTGGTTTG': 3, 'CCCATTGT': 3, 'TTCATTAG': 3, 'CACCAAAA': 3, 'TTTGCAAA': 3, 'CCACAAAA': 3, 'ATTGCTTA': 3, 'CTTTTTGG': 3, 'TCCCTGGT': 3, 'TCAGTTGA': 3, 'CAGTAAAA': 3, 'CAGAAAAA': 3, 'AAGCGAAA': 3, 'CTCATTAT': 3, 'CAGAAATA': 3, 'TTTGATTA': 3, 'TAGCAAGA': 3, 'TTGATTGA': 3, 'TTGGCTGA': 3, 'TGTGATCA': 3, 'CACAAAAA': 3, 'TTCATTTG': 3, 'TTTCTTCA': 3, 'CACCAATA': 3, 'CAGAAGAA': 3, 'CTCATTTC': 3, 'TTTGGTGA': 2, 'TCCGCCCA': 2, 'CAGCAAGG': 2, 'CAGCAACC': 2, 'CATCGAAA': 2, 'ATGCAAAA': 2, 'CAAATCCG': 2, 'TCTGTGAA': 2, 'CTCCTTGA': 2, 'AAGCAAAA': 2, 'CTCCTTCG': 2, 'TCCCAGGA': 2, 'TTCGAGGA': 2, 'ATTATTGG': 2, 'TTGACTGG': 2, 'TTTGATCC': 2, 'TCCGAGAA': 2, 'TTTGGTCT': 2, 'TCCCCCGA': 2, 'CCCATTGG': 2, 'CAGGAAGA': 2, 'CTAATTGC': 2, 'AGCATTGG': 2, 'TTCGCCCA': 2, 'CGGATTCT': 2, 'TCTGCGGG': 2, 'TACGAGGA': 2, 'TCCCCAGA': 2, 'TCTGTAGA': 2, 'CACCAAAC': 2, 'CTCATTCC': 2, 'TTTGCTCG': 2, 'CTGCAGAA': 2, 'TTATCTCA': 1, 'TTTGCTGG': 1, 'TTTGCTTG': 1, 'TTCGCTTA': 1, 'CTCCTTGG': 1, 'CTGATCAG': 1, 'CTGATGGC': 1, 'CTGGTTCG': 1, 'TCTGCGTA': 1, 'TCCTTGGG': 1, 'TCCGTAAA': 1, 'TCGGTGTA': 1, 'ACCGTCGA': 1, 'CCCGTGTA': 1, 'CAGCACGA': 1, 'CAGCCAAC': 1, 'TAGCGAAA': 1, 'CGCATCCA': 1, 'ATCGTTGG': 1, 'GCCACGGA': 1, 'CTCATAGT': 1, 'CTAAGTGG': 1, 'ACCGGGGA': 1, 'TTGGCTCC': 1, 'CTCAAAGG': 1, 'TTCGGGGA': 1, 'ACCGAGGA': 1, 'TATGTGGA': 1, 'TTTCCTAA': 1, 'AGTGCTCA': 1, 'CTGGAAAA': 1, 'TCCCCGGC': 1, 'CAGATAAA': 1, 'GAGCTAAA': 1, 'TCCTCCGA': 1, 'TTCATGGG': 1, 'TCCTCGAA': 1, 'CCGCAACA': 1, 'TCAGCGAA': 1, 'TTGATTGT': 1, 'TCCATGCA': 1, 'GTTGCTCG': 1, 'GCCGTCGA': 1, 'CACCAAAT': 1, 'ATTGCTCA': 1, 'CTGTGTGG': 1, 'GCCGTGGA': 1, 'CAGTAAAT': 1, 'TTTGCTAG': 1, 'GTCATTGA': 1, 'CGGGTCCC': 1, 'CTGCATAA': 1, 'TTGGATCA': 1, 'AGGATTCG': 1, 'TTCTCTCA': 1, 'CTCAGTTG': 1, 'CAACAAGA': 1, 'CGGCAACA': 1, 'TTTGCCTA': 1, 'CAGCACAT': 1, 'CCCTTGGA': 1, 'CGGCATAA': 1, 'TTTACACA': 1, 'ATGATAGG': 1, 'ATCAGTGG': 1, 'CATAAAAA': 1, 'TATGATCA': 1, 'TTCCTGGA': 1, 'TTTGCCGA': 1, 'CAGCAGAA': 1, 'TCCATGGT': 1}\n",
            "5\n",
            "2\n",
            "1\n",
            "6\n",
            "5\n",
            "5\n",
            "4\n"
          ]
        }
      ],
      "source": [
        "\n",
        "tree = construct_tree(sequences)\n",
        "motiftest = generateRandomSequence(8,False)\n",
        "#print(motiftest)\n",
        "prout = [\"TTTGCTCA\", \"CTCATTGG\", \"CTGATTGG\", \"TCCGCGGA\", \"TCCGTGGA\", \"CAGCAAAA\", \"CGGATCCG\"]\n",
        "#for e in prout:\n",
        "#    print(e)\n",
        "#    motif_occur_sorted = inexact_match([e],sequences, tree, v)\n",
        "#    print(motif_occur_sorted)\n",
        "\n",
        "motif_occur_sorted = inexact_match(prout,sequences, tree, v)\n",
        "print(motif_occur_sorted)\n",
        "for truc in prout:\n",
        "    print(hamdist(\"CTGATTGA\", truc))\n"
      ]
    },
    {
      "cell_type": "code",
      "execution_count": 265,
      "metadata": {},
      "outputs": [],
      "source": [
        "def logofile(motif_occur : dict):\n",
        "    \"\"\"cette fonction sert à transfromer le dictionnaire en un fichier qu'on peut imporeter dans le site LOGO\"\"\"\n",
        "    fichier = open(\"dataLogo.txt\", \"w+\")\n",
        "    for i in motif_occur :\n",
        "        for j in range(motif_occur[i]):\n",
        "            fichier.write(i+'\\n')\n",
        "    fichier.close()\n",
        "logofile(motif_occur_sorted)"
      ]
    },
    {
      "attachments": {},
      "cell_type": "markdown",
      "metadata": {},
      "source": [
        "https://weblogo.berkeley.edu/cache/file21eJOC.png"
      ]
    }
  ],
  "metadata": {
    "celltoolbar": "Raw Cell Format",
    "colab": {
      "provenance": []
    },
    "kernelspec": {
      "display_name": "Python 3",
      "language": "python",
      "name": "python3"
    },
    "language_info": {
      "codemirror_mode": {
        "name": "ipython",
        "version": 3
      },
      "file_extension": ".py",
      "mimetype": "text/x-python",
      "name": "python",
      "nbconvert_exporter": "python",
      "pygments_lexer": "ipython3",
      "version": "3.11.3"
    }
  },
  "nbformat": 4,
  "nbformat_minor": 0
}
