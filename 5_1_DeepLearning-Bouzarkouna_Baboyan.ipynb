{
 "cells": [
  {
   "attachments": {},
   "cell_type": "markdown",
   "metadata": {
    "id": "kZ4C6ycPO5V4"
   },
   "source": [
    "28706508 Malek Bouzarkouna\n",
    "3521887 Sevag Baboyan\n",
    "\n",
    "# TME 5.1 : Deep Learning - programmer et entraîner un neurone artificiel\n",
    "\n",
    "\n",
    "## Recherche de pattern (motifs) en utilisant de réseau de neurones\n",
    "\n",
    "Nous allons reprogrammer un neurone artificiel et l'algorithme de back propagation pour reconnaître un motif particulier \n",
    "Pour comprendre le principe nous utiliserons des données simulées générées à partir de matrice de fréquences d'un motif d'intérêt,\n",
    "étiquetées avec 1 (les séquences ne contiennent le motif) et des séquences aléatoires, étiquetées avec 0 (les séquences ne contiennent pas le motif).\n",
    "Notre objectif est de construire un classifieur capable de prédire si une séquence particulière contient le motif d'intérêt."
   ]
  },
  {
   "attachments": {},
   "cell_type": "markdown",
   "metadata": {
    "id": "b9R-3AeT6_y8"
   },
   "source": [
    "## 1. Préparation de données\n",
    "1.1 Nous allons d'abord générer des données artificielles, un jeu de données de séquences ayant le motif (positives = label 1) et un jeu de données de séquences aléatoires (négatives = label 0). Pour générer les séquences positives, utilisez la matrice de fréquence du motif AGTATAG.Pour générer les séquences négatives une distribution uniforme ou les nucléotides sont choisis aléatoirement.Générer 100 séquences positives et 100 séquences négatives. "
   ]
  },
  {
   "cell_type": "code",
   "execution_count": 2085,
   "metadata": {
    "id": "H8NocqR00-Nh"
   },
   "outputs": [
    {
     "name": "stdout",
     "output_type": "stream",
     "text": [
      "[[9.80392157e-01 1.16504854e-02 2.97619048e-03 9.85221675e-01\n",
      "  4.95049505e-03 9.71817298e-01 9.97008973e-04]\n",
      " [9.80392157e-03 7.76699029e-03 2.97619048e-03 2.95566502e-03\n",
      "  0.00000000e+00 9.71817298e-03 9.97008973e-04]\n",
      " [3.92156863e-03 9.70873786e-01 1.98412698e-03 6.89655172e-03\n",
      "  4.95049505e-03 1.26336249e-02 9.97008973e-01]\n",
      " [5.88235294e-03 9.70873786e-03 9.92063492e-01 4.92610837e-03\n",
      "  9.90099010e-01 5.83090379e-03 9.97008973e-04]]\n"
     ]
    }
   ],
   "source": [
    "import numpy as np\n",
    "import matplotlib.pyplot as plt\n",
    "import random\n",
    "import array\n",
    "import math\n",
    "\n",
    "motif_length = 7\n",
    "num_sample = 100\n",
    "\n",
    "MotifConsensus = \"AGTATAG\"\n",
    "\n",
    "nuc = ['A','C','T','G']\n",
    "\n",
    "def generatePWM(MF):\n",
    "    t = len(MF)\n",
    "    n = len(MF[0])\n",
    "    \n",
    "    PWM = np.zeros((t,n))\n",
    "    for i in range(n):\n",
    "        s = 0\n",
    "        for j in range(t):\n",
    "            s += MF[j][i]\n",
    "        for j in range(t):\n",
    "            PWM[j][i] = MF[j][i] / s\n",
    "    return PWM\n",
    "            \n",
    "    \n",
    "freq = np.array([\n",
    "  [1000,  12,   3,  1000,   5,   1000,   1],\n",
    "  [10,    8,   3,   3,   0,    10,   1],\n",
    "  [4,   1000,   2,   7,   5,    13,   1000],\n",
    "  [6,    10,  1000,   5,   1000,   6,   1]])\n",
    "\n",
    "#Transformer freq en matrice de poids position\n",
    "#PWM = generatePWM(freq)\n",
    "PWM = freq / freq.sum(axis = 0)\n",
    "print(PWM)\n"
   ]
  },
  {
   "cell_type": "code",
   "execution_count": 2086,
   "metadata": {
    "id": "fKLBM2sT3Ga7"
   },
   "outputs": [
    {
     "name": "stdout",
     "output_type": "stream",
     "text": [
      "['ATGAGAT', 'ATGAGAT', 'ATGGGAT', 'ATGAGAT', 'ATGAGCT', 'ATGAGAT', 'ATGAGAT', 'ATGAGAT', 'AGTAGAT', 'ATGAGAT', 'ATGAGAT', 'ATGAGAT', 'ATGAGAT', 'ATGAGAT', 'ATGAGAT', 'ATGAGAT', 'ATGAGAT', 'ATGAGAT', 'ATGCGAT', 'ATGAGAT', 'ATGAGAT', 'ATGAGAT', 'ATGAGAT', 'ATGAGAT', 'ATGAGAT', 'ATGAGAT', 'ATGAGAT', 'ATGAGAT', 'ATGAGAT', 'ACGAGAT', 'ATGAGAT', 'ATGAGAT', 'ATGAGAC', 'ATGAGCT', 'ATGAGAT', 'ATGAGAT', 'ATGAGAT', 'ATGAGAT', 'GTGAGAT', 'ATGAGAT', 'ATGAGAT', 'ATGAGAT', 'ATGAGAT', 'ATGAGAT', 'ATGAGAT', 'ATGAGAT', 'ATGAGAT', 'ATGAGAT', 'ATGAGAT', 'ATGAGAT', 'ATGAGAT', 'ATGAGAT', 'ATGAGAT', 'ATGAGAT', 'ATGAGAT', 'ATGAGAT', 'ATGAGAT', 'ATGAGAT', 'ACGAGAT', 'ATGAGAT', 'ATGAGAT', 'ATGAGAT', 'ATGAGAT', 'ATGAGAT', 'ATGAGAT', 'ATGAGAT', 'ATGAGAT', 'ATGAGAT', 'ATGAGAT', 'ATGAGAT', 'ATGAGAT', 'ATGAGAT', 'ATGAGAT', 'ATGAGAT', 'ATGAGAT', 'ATGAGAT', 'ATGAGAT', 'ATGAGAT', 'ATGAGAT', 'ATGAGAT', 'ATGAGAT', 'ATGAGAT', 'ATGAGAT', 'ATGAGAT', 'ATGAGAT', 'ATGAGAT', 'ATGAGAT', 'ATGAGAT', 'ATGAGAT', 'CTGAGAT', 'CTGAGAT', 'ATGAGAT', 'ATGAGAT', 'ATGAGAT', 'ATGAGAT', 'ATGAGAT', 'ATGAGAT', 'ATGAGAT', 'ATGAGAT', 'ATGAGAT']\n",
      "\n",
      "\n",
      "\n",
      "['ACCCCAG', 'GTCTTAA', 'CCGTTAC', 'ATTGAAA', 'AATCCTG', 'GGCGTGA', 'CACATTC', 'CGATGAT', 'GGATAGA', 'GTCGGTA', 'CAAACTT', 'GAGTTGG', 'GAGGGAG', 'AAACTAC', 'CCCCTAA', 'CCACCCG', 'AAGAGGC', 'AGCCCGG', 'GAGGCCG', 'TGGGCTT', 'ACCCCTG', 'AATTAAT', 'ACTAAAC', 'AGGGCGG', 'CGTGCCC', 'GCAACGA', 'TGACTAT', 'ATGGACG', 'ATCTGTT', 'TGTCACG', 'ATAGAGG', 'CGGCACC', 'CCGTGGT', 'CTCCGGA', 'GCCGTGT', 'AGCCGCG', 'GCGCTTC', 'CGCCCGG', 'AGCTCCT', 'GCAGGTG', 'CGCATAC', 'TATCCTG', 'TATAAGG', 'TAGGGCC', 'TACAAAG', 'CATTTGC', 'CCTTGCA', 'GGGAGTT', 'TGCACAG', 'GAGCACA', 'TCCCGGT', 'CTGAGTT', 'AGGCCCA', 'ACAAATG', 'GACATAC', 'ACGACAT', 'ACCTAGT', 'AATTTGG', 'AGTGCAC', 'TGACGGA', 'ACCTTAC', 'ATTGTAT', 'GTGTGCT', 'CTGCGCG', 'TGGCTTT', 'GTCTTAT', 'TGAATCT', 'TTCTATC', 'GTTTGTC', 'GCCAAGA', 'CAACAAA', 'TCTATGA', 'TCCCGAC', 'TCCAGTA', 'CGTCTCA', 'TTTGAGG', 'GTTGTCC', 'CGTACGT', 'ATAAGTC', 'GTCCTGC', 'CTGACGG', 'AAAGCCC', 'AATCTTA', 'GTCATAC', 'ACAATTC', 'CTCCTTA', 'AGTAGTG', 'CCAAAAG', 'AACTAAG', 'GATAGCG', 'CTGCCAG', 'TGGGTTC', 'TATTACA', 'GAAGAAA', 'GACGGTT', 'TCAGAGT', 'CTGAGTT', 'CGCGCAC', 'CCAATGA', 'TCCCTTG']\n"
     ]
    }
   ],
   "source": [
    "def createArtSequences(freq, num_sample=100):\n",
    "    \"\"\"\n",
    "    Genere deux jeux de sequences: positives (ayant le motif) et negatives (aleatoires)\n",
    "    entrée PWM : matrice de poids position qui represent le motif d'interet\n",
    "    entrée num_sample : int, nombre d'echantillons\n",
    "    sortie pos : list contenant les sequences positives\n",
    "    sortie neg : list contenant les sequences negatives\n",
    "    \"\"\"\n",
    "    pos = []\n",
    "    neg = []\n",
    "    j = 0\n",
    "    for i in range(num_sample):\n",
    "        tmp = []\n",
    "        for j in range(len(freq[0])):\n",
    "            posl = PWM[:,j].tolist()\n",
    "            #print (posl)\n",
    "            nucleotide = np.random.choice(nuc, 1, p = posl)\n",
    "            #print (nucleotide)\n",
    "            tmp.append(\"\".join(nucleotide))\n",
    "        j = 0\n",
    "        pos.append(\"\".join(tmp))\n",
    "        neg.append(\"\".join(np.random.choice(nuc, 7)))\n",
    "\n",
    "    return pos, neg\n",
    "\n",
    "num_sample =100\n",
    "pos, neg  = createArtSequences(freq, num_sample)\n",
    "print(pos)\n",
    "print(\"\\n\\n\")\n",
    "print(neg)"
   ]
  },
  {
   "attachments": {},
   "cell_type": "markdown",
   "metadata": {
    "id": "tCr-0uaz3WXr"
   },
   "source": [
    "1.2 Générer le vecteur y contenant les labels de séquences générer à la question précédente, séquences positives = label 1, et négatives = label 0. Pour simplifier les prochain calculs y doit être un numpy array de dimension (num_sample*2, 1)"
   ]
  },
  {
   "cell_type": "code",
   "execution_count": 2087,
   "metadata": {
    "id": "TLSWIMGR3Z1I"
   },
   "outputs": [
    {
     "name": "stdout",
     "output_type": "stream",
     "text": [
      "[[1.]\n",
      " [1.]\n",
      " [1.]\n",
      " [1.]\n",
      " [1.]\n",
      " [1.]\n",
      " [1.]\n",
      " [1.]\n",
      " [1.]\n",
      " [1.]\n",
      " [1.]\n",
      " [1.]\n",
      " [1.]\n",
      " [1.]\n",
      " [1.]\n",
      " [1.]\n",
      " [1.]\n",
      " [1.]\n",
      " [1.]\n",
      " [1.]\n",
      " [1.]\n",
      " [1.]\n",
      " [1.]\n",
      " [1.]\n",
      " [1.]\n",
      " [1.]\n",
      " [1.]\n",
      " [1.]\n",
      " [1.]\n",
      " [1.]\n",
      " [1.]\n",
      " [1.]\n",
      " [1.]\n",
      " [1.]\n",
      " [1.]\n",
      " [1.]\n",
      " [1.]\n",
      " [1.]\n",
      " [1.]\n",
      " [1.]\n",
      " [1.]\n",
      " [1.]\n",
      " [1.]\n",
      " [1.]\n",
      " [1.]\n",
      " [1.]\n",
      " [1.]\n",
      " [1.]\n",
      " [1.]\n",
      " [1.]\n",
      " [1.]\n",
      " [1.]\n",
      " [1.]\n",
      " [1.]\n",
      " [1.]\n",
      " [1.]\n",
      " [1.]\n",
      " [1.]\n",
      " [1.]\n",
      " [1.]\n",
      " [1.]\n",
      " [1.]\n",
      " [1.]\n",
      " [1.]\n",
      " [1.]\n",
      " [1.]\n",
      " [1.]\n",
      " [1.]\n",
      " [1.]\n",
      " [1.]\n",
      " [1.]\n",
      " [1.]\n",
      " [1.]\n",
      " [1.]\n",
      " [1.]\n",
      " [1.]\n",
      " [1.]\n",
      " [1.]\n",
      " [1.]\n",
      " [1.]\n",
      " [1.]\n",
      " [1.]\n",
      " [1.]\n",
      " [1.]\n",
      " [1.]\n",
      " [1.]\n",
      " [1.]\n",
      " [1.]\n",
      " [1.]\n",
      " [1.]\n",
      " [1.]\n",
      " [1.]\n",
      " [1.]\n",
      " [1.]\n",
      " [1.]\n",
      " [1.]\n",
      " [1.]\n",
      " [1.]\n",
      " [1.]\n",
      " [0.]\n",
      " [0.]\n",
      " [0.]\n",
      " [0.]\n",
      " [0.]\n",
      " [0.]\n",
      " [0.]\n",
      " [0.]\n",
      " [0.]\n",
      " [0.]\n",
      " [0.]\n",
      " [0.]\n",
      " [0.]\n",
      " [0.]\n",
      " [0.]\n",
      " [0.]\n",
      " [0.]\n",
      " [0.]\n",
      " [0.]\n",
      " [0.]\n",
      " [0.]\n",
      " [0.]\n",
      " [0.]\n",
      " [0.]\n",
      " [0.]\n",
      " [0.]\n",
      " [0.]\n",
      " [0.]\n",
      " [0.]\n",
      " [0.]\n",
      " [0.]\n",
      " [0.]\n",
      " [0.]\n",
      " [0.]\n",
      " [0.]\n",
      " [0.]\n",
      " [0.]\n",
      " [0.]\n",
      " [0.]\n",
      " [0.]\n",
      " [0.]\n",
      " [0.]\n",
      " [0.]\n",
      " [0.]\n",
      " [0.]\n",
      " [0.]\n",
      " [0.]\n",
      " [0.]\n",
      " [0.]\n",
      " [0.]\n",
      " [0.]\n",
      " [0.]\n",
      " [0.]\n",
      " [0.]\n",
      " [0.]\n",
      " [0.]\n",
      " [0.]\n",
      " [0.]\n",
      " [0.]\n",
      " [0.]\n",
      " [0.]\n",
      " [0.]\n",
      " [0.]\n",
      " [0.]\n",
      " [0.]\n",
      " [0.]\n",
      " [0.]\n",
      " [0.]\n",
      " [0.]\n",
      " [0.]\n",
      " [0.]\n",
      " [0.]\n",
      " [0.]\n",
      " [0.]\n",
      " [0.]\n",
      " [0.]\n",
      " [0.]\n",
      " [0.]\n",
      " [0.]\n",
      " [0.]\n",
      " [0.]\n",
      " [0.]\n",
      " [0.]\n",
      " [0.]\n",
      " [0.]\n",
      " [0.]\n",
      " [0.]\n",
      " [0.]\n",
      " [0.]\n",
      " [0.]\n",
      " [0.]\n",
      " [0.]\n",
      " [0.]\n",
      " [0.]\n",
      " [0.]\n",
      " [0.]\n",
      " [0.]\n",
      " [0.]\n",
      " [0.]\n",
      " [0.]\n",
      " [0.]]\n"
     ]
    }
   ],
   "source": [
    "y = np.zeros(200)\n",
    "y[:99] =1\n",
    "y = y.reshape(y.shape[0],1)\n",
    "print(y)"
   ]
  },
  {
   "attachments": {},
   "cell_type": "markdown",
   "metadata": {
    "id": "3E_GVK6_Ac3w"
   },
   "source": [
    "1.3 Nous allons créer notre matrice X contenant deux features, pour simplifier x1 sera le nombre de AG et x2 le nombre de TA. Par exemple, pour la séquence AGAGTAG, x1 = 3 et x2=1"
   ]
  },
  {
   "cell_type": "code",
   "execution_count": 2088,
   "metadata": {
    "id": "jxZ69YUP3eaJ"
   },
   "outputs": [
    {
     "name": "stdout",
     "output_type": "stream",
     "text": [
      "[[1. 0.]\n",
      " [1. 0.]\n",
      " [0. 0.]\n",
      " [1. 0.]\n",
      " [1. 0.]\n",
      " [1. 0.]\n",
      " [1. 0.]\n",
      " [1. 0.]\n",
      " [2. 1.]\n",
      " [1. 0.]\n",
      " [1. 0.]\n",
      " [1. 0.]\n",
      " [1. 0.]\n",
      " [1. 0.]\n",
      " [1. 0.]\n",
      " [1. 0.]\n",
      " [1. 0.]\n",
      " [1. 0.]\n",
      " [0. 0.]\n",
      " [1. 0.]\n",
      " [1. 0.]\n",
      " [1. 0.]\n",
      " [1. 0.]\n",
      " [1. 0.]\n",
      " [1. 0.]\n",
      " [1. 0.]\n",
      " [1. 0.]\n",
      " [1. 0.]\n",
      " [1. 0.]\n",
      " [1. 0.]\n",
      " [1. 0.]\n",
      " [1. 0.]\n",
      " [1. 0.]\n",
      " [1. 0.]\n",
      " [1. 0.]\n",
      " [1. 0.]\n",
      " [1. 0.]\n",
      " [1. 0.]\n",
      " [1. 0.]\n",
      " [1. 0.]\n",
      " [1. 0.]\n",
      " [1. 0.]\n",
      " [1. 0.]\n",
      " [1. 0.]\n",
      " [1. 0.]\n",
      " [1. 0.]\n",
      " [1. 0.]\n",
      " [1. 0.]\n",
      " [1. 0.]\n",
      " [1. 0.]\n",
      " [1. 0.]\n",
      " [1. 0.]\n",
      " [1. 0.]\n",
      " [1. 0.]\n",
      " [1. 0.]\n",
      " [1. 0.]\n",
      " [1. 0.]\n",
      " [1. 0.]\n",
      " [1. 0.]\n",
      " [1. 0.]\n",
      " [1. 0.]\n",
      " [1. 0.]\n",
      " [1. 0.]\n",
      " [1. 0.]\n",
      " [1. 0.]\n",
      " [1. 0.]\n",
      " [1. 0.]\n",
      " [1. 0.]\n",
      " [1. 0.]\n",
      " [1. 0.]\n",
      " [1. 0.]\n",
      " [1. 0.]\n",
      " [1. 0.]\n",
      " [1. 0.]\n",
      " [1. 0.]\n",
      " [1. 0.]\n",
      " [1. 0.]\n",
      " [1. 0.]\n",
      " [1. 0.]\n",
      " [1. 0.]\n",
      " [1. 0.]\n",
      " [1. 0.]\n",
      " [1. 0.]\n",
      " [1. 0.]\n",
      " [1. 0.]\n",
      " [1. 0.]\n",
      " [1. 0.]\n",
      " [1. 0.]\n",
      " [1. 0.]\n",
      " [1. 0.]\n",
      " [1. 0.]\n",
      " [1. 0.]\n",
      " [1. 0.]\n",
      " [1. 0.]\n",
      " [1. 0.]\n",
      " [1. 0.]\n",
      " [1. 0.]\n",
      " [1. 0.]\n",
      " [1. 0.]\n",
      " [1. 0.]]\n",
      "[[1. 0.]\n",
      " [0. 1.]\n",
      " [0. 1.]\n",
      " [0. 0.]\n",
      " [0. 0.]\n",
      " [0. 0.]\n",
      " [0. 0.]\n",
      " [0. 0.]\n",
      " [1. 1.]\n",
      " [0. 1.]\n",
      " [0. 0.]\n",
      " [1. 0.]\n",
      " [2. 0.]\n",
      " [0. 1.]\n",
      " [0. 1.]\n",
      " [0. 0.]\n",
      " [2. 0.]\n",
      " [1. 0.]\n",
      " [1. 0.]\n",
      " [0. 0.]\n",
      " [0. 0.]\n",
      " [0. 1.]\n",
      " [0. 1.]\n",
      " [1. 0.]\n",
      " [0. 0.]\n",
      " [0. 0.]\n",
      " [0. 1.]\n",
      " [0. 0.]\n",
      " [0. 0.]\n",
      " [0. 0.]\n",
      " [2. 1.]\n",
      " [0. 0.]\n",
      " [0. 0.]\n",
      " [0. 0.]\n",
      " [0. 0.]\n",
      " [1. 0.]\n",
      " [0. 0.]\n",
      " [0. 0.]\n",
      " [1. 0.]\n",
      " [1. 0.]\n",
      " [0. 1.]\n",
      " [0. 1.]\n",
      " [1. 2.]\n",
      " [1. 1.]\n",
      " [1. 1.]\n",
      " [0. 0.]\n",
      " [0. 0.]\n",
      " [1. 0.]\n",
      " [1. 0.]\n",
      " [1. 0.]\n",
      " [0. 0.]\n",
      " [1. 0.]\n",
      " [1. 0.]\n",
      " [0. 0.]\n",
      " [0. 1.]\n",
      " [0. 0.]\n",
      " [1. 1.]\n",
      " [0. 0.]\n",
      " [1. 0.]\n",
      " [0. 0.]\n",
      " [0. 1.]\n",
      " [0. 1.]\n",
      " [0. 0.]\n",
      " [0. 0.]\n",
      " [0. 0.]\n",
      " [0. 1.]\n",
      " [0. 0.]\n",
      " [0. 1.]\n",
      " [0. 0.]\n",
      " [1. 0.]\n",
      " [0. 0.]\n",
      " [0. 1.]\n",
      " [0. 0.]\n",
      " [1. 1.]\n",
      " [0. 0.]\n",
      " [1. 0.]\n",
      " [0. 0.]\n",
      " [0. 1.]\n",
      " [1. 1.]\n",
      " [0. 0.]\n",
      " [0. 0.]\n",
      " [1. 0.]\n",
      " [0. 1.]\n",
      " [0. 1.]\n",
      " [0. 0.]\n",
      " [0. 1.]\n",
      " [2. 1.]\n",
      " [1. 0.]\n",
      " [1. 1.]\n",
      " [1. 1.]\n",
      " [1. 0.]\n",
      " [0. 0.]\n",
      " [0. 2.]\n",
      " [1. 0.]\n",
      " [0. 0.]\n",
      " [2. 0.]\n",
      " [1. 0.]\n",
      " [0. 0.]\n",
      " [0. 0.]\n",
      " [0. 0.]]\n"
     ]
    },
    {
     "data": {
      "image/png": "[encoded data removed]",
      "text/plain": [
       "<Figure size 640x480 with 1 Axes>"
      ]
     },
     "metadata": {},
     "output_type": "display_data"
    },
    {
     "data": {
      "image/png": "[encoded data removed]",
      "text/plain": [
       "<Figure size 640x480 with 1 Axes>"
      ]
     },
     "metadata": {},
     "output_type": "display_data"
    }
   ],
   "source": [
    "def createFeatures(trainSeqs:list, num_sample=100):\n",
    "    \"\"\"\n",
    "    Crrer deux features pour chaque séquence: x1 = nombre de AG et x2 = nombre de TA \n",
    "    entrée trainSeqs : list de séquences \n",
    "    entrée num_sample : nombre d'échantillons \n",
    "    sortie X : numpy array contenant deux feature pour chaque séquence\n",
    "    \"\"\"\n",
    "    dim = (num_sample, 2)\n",
    "    X = np.zeros(dim)\n",
    "    for i in range(num_sample):\n",
    "        X[i][0] = trainSeqs[i].count(\"AG\")\n",
    "        X[i][1] = trainSeqs[i].count(\"TA\")\n",
    "    return X\n",
    "\n",
    "\n",
    "Xpos = createFeatures(pos)\n",
    "Xneg = createFeatures(neg)\n",
    "print(Xpos)\n",
    "print(Xneg)\n",
    "\n",
    "\n",
    "yPos = np.ones(num_sample)\n",
    "yNeg = np.zeros(num_sample)\n",
    "\n",
    "#Ploter les données\n",
    "\n",
    "plt.scatter(Xpos[:,0], Xpos[:, 1], c=yPos, s=15)\n",
    "plt.show()\n",
    "\n",
    "plt.scatter(Xneg[:,0], Xneg[:, 1], c=yNeg, marker='x', cmap='summer')\n",
    "plt.show()\n",
    "\n",
    "\n",
    "\n",
    "\n",
    "\n",
    "\n",
    "\n",
    "#Normaliser les données entre 0 et 1\n",
    "X = np.vstack((Xpos, Xneg))\n",
    "\n",
    "x_norm = (X-np.min(X))/(np.max(X)-np.min(X))\n",
    "\n",
    "X = x_norm"
   ]
  },
  {
   "attachments": {},
   "cell_type": "markdown",
   "metadata": {
    "id": "OMQhDkPTC1XD"
   },
   "source": [
    "## 2. Construction d'un neurone artificiel\n",
    "2.1 Faire une fonction pour initialiser avec des valeurs aléatoires la matrice W et b"
   ]
  },
  {
   "cell_type": "code",
   "execution_count": 2089,
   "metadata": {
    "id": "tG3YFKd6Y3jj"
   },
   "outputs": [
    {
     "name": "stdout",
     "output_type": "stream",
     "text": [
      "(200, 2)\n",
      "[[0.21557847]\n",
      " [0.92741816]]\n",
      "(2, 1) (1,)\n"
     ]
    }
   ],
   "source": [
    "def initialisation(X):\n",
    "    \"\"\"\n",
    "    Initialiser avec des valeurs aléatoires la matrice W et b\n",
    "    entrée X: matrice de features\n",
    "    sortie W: matrice de poids du reseau\n",
    "    sortie b: bias\n",
    "    \"\"\"\n",
    "    top = len(X[0])\n",
    "    #W = np.random.randn(X.shape[1],1)\n",
    "    W = np.zeros(top)\n",
    "    for i in range(top):\n",
    "        W[i] = random.random()\n",
    "    W = W.reshape(W.shape[0], 1)\n",
    "    b = np.random.randn(1)\n",
    "    return (W, b)\n",
    "print(X.shape)\n",
    "W, b = initialisation(X)\n",
    "print(W)\n",
    "print(W.shape, b.shape)"
   ]
  },
  {
   "attachments": {},
   "cell_type": "markdown",
   "metadata": {
    "id": "VAuvpzWKD6r7"
   },
   "source": [
    "2.2 Faire une fonction qui calcule la fonction d'ativation du neurone "
   ]
  },
  {
   "cell_type": "code",
   "execution_count": 2090,
   "metadata": {
    "id": "O7GP4WQOZ5RY"
   },
   "outputs": [],
   "source": [
    "def model(X, W, b):\n",
    "    \"\"\"\n",
    "    Calcule Z puis A\n",
    "    entrée X: matrice de features\n",
    "    entrée W: matrice de poids du reseau\n",
    "    entrée b: bias\n",
    "    sortie A: valeur de la fonction d'ativation\n",
    "    \"\"\"\n",
    "\n",
    "    Z = X.dot(W) + b\n",
    "    A = 1/(1 + np.exp(-Z))\n",
    "    \n",
    "    return A\n",
    "\n",
    "A = model(X, W, b)"
   ]
  },
  {
   "attachments": {},
   "cell_type": "markdown",
   "metadata": {
    "id": "8nhsFjyOFLid"
   },
   "source": [
    "2.2 Faire la fonction logLoss"
   ]
  },
  {
   "cell_type": "code",
   "execution_count": 2091,
   "metadata": {
    "id": "ygDaoWenbUPA"
   },
   "outputs": [],
   "source": [
    "def log_loss(A, y):\n",
    "    \"\"\"\n",
    "    Calcule log_loss basée en A et y\n",
    "    entrée A: vecteur contenant les valeurs de fonctions d'activation pour les num_sample*2\n",
    "    entrée y: vecteur de labels\n",
    "    sortie ll: logLoss\n",
    "    \"\"\"\n",
    "    return 1 / len(y) * np.sum(-y * np.log(A) - (1 - y) * np.log(1 - A))\n",
    "\n"
   ]
  },
  {
   "attachments": {},
   "cell_type": "markdown",
   "metadata": {
    "id": "Dc7ppmE9F6In"
   },
   "source": [
    "2.3 Faire la fonction qui calcule les gradients"
   ]
  },
  {
   "cell_type": "code",
   "execution_count": 2092,
   "metadata": {
    "id": "F5ALRcpTcQSz"
   },
   "outputs": [],
   "source": [
    "def gradients(A, X, y):\n",
    "    \"\"\"\n",
    "    Calcule les gradients dW et db\n",
    "    entrée A: vecteur contenant les valeurs de fonctions d'activation pour num_sample*2\n",
    "    entrée X: matrice de features\n",
    "    entrée y: vecteur de labels\n",
    "    sortie dW: les gradients de W\n",
    "    sortie db: le gradients de b\n",
    "    \"\"\"\n",
    "    dW = 1 / len(y) * np.dot(X.T, A - y)\n",
    "    db = 1 / len(y) * np.sum(A - y)\n",
    "\n",
    "    return (dW, db)"
   ]
  },
  {
   "attachments": {},
   "cell_type": "markdown",
   "metadata": {
    "id": "QvbcNvmPGd4b"
   },
   "source": [
    "2.4 Faire la fonction pour mettre à jours les parametre W et b"
   ]
  },
  {
   "cell_type": "code",
   "execution_count": 2093,
   "metadata": {
    "id": "dxGJyWq_dKMe"
   },
   "outputs": [],
   "source": [
    "def update(dW, db, W, b, learning_rate):\n",
    "    \"\"\"\n",
    "    Mettre à jour W et b\n",
    "    entrée dW: les gradients de W\n",
    "    entrée db: le gradient de b\n",
    "    entrée W: matrice de poids W\n",
    "    entrée b: bias\n",
    "    entrée learning_rate: pas d'aprentissage\n",
    "    sortie W: W mis à jour\n",
    "    sortie b: b mis à jour\n",
    "    \"\"\"\n",
    "    W = W - learning_rate * dW\n",
    "    b = b - learning_rate * db\n",
    "   \n",
    "    return (W, b)"
   ]
  },
  {
   "attachments": {},
   "cell_type": "markdown",
   "metadata": {
    "id": "yV4chOnlHQCH"
   },
   "source": [
    "2.5 Faire la fonction pour entraîner un neurone artificiel"
   ]
  },
  {
   "cell_type": "code",
   "execution_count": 2094,
   "metadata": {
    "id": "BE89yQopd5cf"
   },
   "outputs": [
    {
     "name": "stdout",
     "output_type": "stream",
     "text": [
      "(200, 2)\n"
     ]
    }
   ],
   "source": [
    "def backPropagation(X, y, learning_rate = 0.08, n_iter = 30):\n",
    "    \"\"\"\n",
    "    Implemente l'algorithme backpropagation\n",
    "    entrée X: matrice de features\n",
    "    entrée y: vecteur de labels\n",
    "    entrée learning_rate: pas d'aprentissage\n",
    "    entrée n_iter: nombre d'iteration ou epoch\n",
    "    sortie W: W à la fin de l'entrainement \n",
    "    sortie b: b à la fin de l'entrainement \n",
    "    sortie Loss: List contenant les valeur de la fonction logLoss à chaque iteration\n",
    "    \"\"\" \n",
    "    # initialisation W, b\n",
    "    W, b = initialisation(X)\n",
    "\n",
    "    Loss = []\n",
    "\n",
    "    for i in range(n_iter):\n",
    "        A = model(X, W, b)\n",
    "        Loss.append(log_loss(A, y))\n",
    "        dW, db = gradients(A, X, y)\n",
    "        W, b = update(dW, db, W, b, learning_rate)\n",
    "\n",
    "\n",
    "    return (W, b, Loss)\n",
    "nb_iter = 2000\n",
    "W, b, Loss = backPropagation(X, y, 0.9, nb_iter)\n",
    "print (X.shape)"
   ]
  },
  {
   "attachments": {},
   "cell_type": "markdown",
   "metadata": {
    "id": "ir4Pl195LDaD"
   },
   "source": [
    "2.6 Ploter les valeurs de LogLoss pour voir si ça diminue au cours des epochs"
   ]
  },
  {
   "cell_type": "code",
   "execution_count": 2095,
   "metadata": {
    "id": "uRbcSdfsyYlg"
   },
   "outputs": [
    {
     "data": {
      "image/png": "[encoded data removed]",
      "text/plain": [
       "<Figure size 640x480 with 1 Axes>"
      ]
     },
     "metadata": {},
     "output_type": "display_data"
    }
   ],
   "source": [
    "plt.plot(Loss)\n",
    "plt.show()"
   ]
  },
  {
   "attachments": {},
   "cell_type": "markdown",
   "metadata": {
    "id": "KZvBv8AmLToj"
   },
   "source": [
    "2.7 Faire une fonction Predict qui renvoie 1 si la probabilité donnée par le model est supérieure ou égale à 0.5, 0 sinon"
   ]
  },
  {
   "cell_type": "code",
   "execution_count": 2096,
   "metadata": {
    "id": "iJM_WeCurSuF"
   },
   "outputs": [],
   "source": [
    "def predict(X, W, b):\n",
    "    \"\"\"\n",
    "    Predire le label de donnees X en ulisant parametre W, b\n",
    "    entrée X: matrice de features\n",
    "    entrée W: matrice de poids W\n",
    "    entrée b: bias\n",
    "    sortie A: 1 si la probalité donnee par le model est superieur ou egale à 0.5, 0 sinon \n",
    "    \"\"\" \n",
    "    A = 0\n",
    "    A = model(X, W, b)\n",
    "    return A >= 0.5"
   ]
  },
  {
   "cell_type": "code",
   "execution_count": null,
   "metadata": {},
   "outputs": [],
   "source": []
  },
  {
   "attachments": {},
   "cell_type": "markdown",
   "metadata": {
    "id": "U2Iv6tbRTlYO"
   },
   "source": [
    "2.8 Afficher l'accuracy du model sur les données d'entrainement."
   ]
  },
  {
   "cell_type": "code",
   "execution_count": 2097,
   "metadata": {
    "id": "4CSwS5fUvd1M"
   },
   "outputs": [
    {
     "name": "stdout",
     "output_type": "stream",
     "text": [
      "0.86\n"
     ]
    }
   ],
   "source": [
    "from sklearn.metrics import accuracy_score\n",
    "\n",
    "y_pred = predict(X, W, b)\n",
    "#print(y_pred,y)\n",
    "print(accuracy_score(y, y_pred))"
   ]
  },
  {
   "attachments": {},
   "cell_type": "markdown",
   "metadata": {
    "id": "KL2bxGemo8N8"
   },
   "source": [
    "## 3. Amelioration du modèle"
   ]
  },
  {
   "attachments": {},
   "cell_type": "markdown",
   "metadata": {
    "id": "HRnEzgUhn0FX"
   },
   "source": [
    "3.1 Quel est la performance du modèle? Changer les paramètres learning_rate et n_iter pour améliorer la performance. Comment ces deux paramètres influencent la accuracy?"
   ]
  },
  {
   "attachments": {},
   "cell_type": "markdown",
   "metadata": {
    "id": "2wWpeEoTovnX"
   },
   "source": [
    "L'accuracy du modèle est bonne, elle est de 0,9, plus le nombre d'itération est élevé, plus nous sommes précis, le learning_rate impacte la courbe et le nombre d'itération, lui impact la raideur de la courbe, plus tout ces éléments sont élevés, plus les résultats obtenys seront précis. "
   ]
  },
  {
   "attachments": {},
   "cell_type": "markdown",
   "metadata": {
    "id": "Xd61l95ApbZc"
   },
   "source": [
    "3.2 Ajouter d'autre features comme par exemple d'autre dinucléotides, ou trinucleotides et réentraîner le modèle. "
   ]
  },
  {
   "cell_type": "code",
   "execution_count": 2098,
   "metadata": {
    "id": "TuNxNkaRp7EV"
   },
   "outputs": [
    {
     "name": "stdout",
     "output_type": "stream",
     "text": [
      "(200, 8)\n"
     ]
    }
   ],
   "source": [
    "def createFeatures(trainSeqs:list, num_sample=100):\n",
    "  \"\"\"\n",
    "  Create plusieurs features pour représenter le motif\n",
    "  entrée trainSeqs : list de séquences d'entrainement\n",
    "  entrée num_sample : nombre d'échantillons \n",
    "  sortie X : numpy array contenant plusieurs features pour chaque séquence\n",
    "  \"\"\"\n",
    "  dim = (num_sample, 8)\n",
    "  X = np.zeros(dim)\n",
    "  for i in range(num_sample):\n",
    "      \n",
    "      X[i][0] = trainSeqs[i].count(\"AG\")\n",
    "      X[i][1] = trainSeqs[i].count(\"TA\")\n",
    "      X[i][2] = trainSeqs[i].count(\"CG\")\n",
    "      X[i][3] = trainSeqs[i].count(\"GC\")\n",
    "      X[i][4] = trainSeqs[i].count(\"CGA\")\n",
    "      X[i][5] = trainSeqs[i].count(\"ACG\")\n",
    "      X[i][6] = trainSeqs[i].count(\"ATG\")\n",
    "      X[i][7] = trainSeqs[i].count(\"GTA\")\n",
    "      \n",
    "  return X\n",
    "\n",
    "Xpos = createFeatures(pos)\n",
    "Xneg = createFeatures(neg)\n",
    "X = np.vstack((Xpos, Xneg))\n",
    "\n",
    "x_norm = (X-np.min(X))/(np.max(X)-np.min(X))\n",
    "\n",
    "X = x_norm\n",
    "print(X.shape)"
   ]
  },
  {
   "attachments": {},
   "cell_type": "markdown",
   "metadata": {
    "id": "qjr9Cj5RzYwu"
   },
   "source": [
    "3.3 Réentraîner le modèle et comparer les performances."
   ]
  },
  {
   "cell_type": "code",
   "execution_count": 2099,
   "metadata": {
    "id": "VO0w8_feqxup"
   },
   "outputs": [
    {
     "data": {
      "image/png": "[encoded data removed]",
      "text/plain": [
       "<Figure size 640x480 with 1 Axes>"
      ]
     },
     "metadata": {},
     "output_type": "display_data"
    }
   ],
   "source": [
    "W, b, Loss = backPropagation(X, y, 0.9, nb_iter)\n",
    "\n",
    "plt.plot(Loss)\n",
    "plt.xlabel(\"NB Itérations\")\n",
    "plt.show()\n",
    "\n",
    "#En étudiant plus de paramétre on remarque que la courbe est plus précise, et ainsi rend notre analyse plus pertinente "
   ]
  },
  {
   "attachments": {},
   "cell_type": "markdown",
   "metadata": {
    "id": "G8w7E3QAR6Y2"
   },
   "source": [
    "## 4. Tester sur vous données de chip-seq\n",
    "4.1 Vous avez peut-être une idée du motif caché dans vos données.\n",
    "Entraîner un modèle spécifique pour reconnaître le motif d'intérêt.\n",
    "Telechargé la matrice de frequence du motif d'intérêt sur le site https://jaspar.genereg.net/, chercher par le nom du motif, puis copie sa matrice de frequence. Voici un exemple pour le motif AFT1"
   ]
  },
  {
   "cell_type": "code",
   "execution_count": 2100,
   "metadata": {
    "id": "AKMhXjeHWKME"
   },
   "outputs": [],
   "source": [
    "#>HAP5\n",
    "#freq = np.array([\n",
    "#[641, 200, 113, 826, 1817, 127, 98, 0, 537, 4156, 0, 0, 387, 361, 0],\n",
    "#[935, 1914, 1513, 1137, 1451, 637, 3199, 700, 1308, 0, 0, 0, 0, 497, 1730],\n",
    "#[1033, 2108, 2485, 2155, 440, 1273, 677, 0, 1904, 0, 0, 234, 3788, 3123, 0],\n",
    "#[1789, 97, 433, 453, 1002, 2389, 624, 3713, 793, 0, 4156, 3922, 0, 262, 2808]\n",
    "#])\n",
    "\n",
    "#>Mac1\n",
    "#freq = np.array([\n",
    "#[108, 89, 0, 115, 0, 0, 0, 958],\n",
    "#[0, 0, 0, 0, 1714, 0, 1714, 0],\n",
    "#[0, 219, 0, 1599, 0, 0, 0, 655],\n",
    "#[1632, 1451, 1714, 0, 0, 1714, 0, 113]\n",
    "#])\n",
    "\n",
    "#>Aft1\n",
    "#freq = np.array([\n",
    "#[106, 155, 362, 179, 426, 136, 716, 145, 34, 160, 10, 961, 8, 25, 19, 181, 265, 287, 276, 123, 154],\n",
    "#[205, 249, 197, 396, 231, 78, 25, 31, 47, 10, 966, 9, 972, 955, 740, 257, 252, 155, 180, 225, 236],\n",
    "#[231, 220, 221, 222, 154, 142, 31, 288, 39, 812, 11, 15, 9, 2, 13, 494, 241, 183, 68, 357, 458],\n",
    "#[456, 374, 218, 200, 187, 641, 226, 535, 878, 16, 10, 14, 10, 16, 225, 65, 240, 373, 474, 292, 150]\n",
    "#])\n",
    "\n",
    "#>Pdr1\n",
    "#freq = np.array([\n",
    "#[8, 0, 0, 13, 2, 8, 10, 62],\n",
    "#[28, 100, 100, 0, 88, 2, 3, 8],\n",
    "#[15, 0, 0, 87, 8, 88, 83, 22],\n",
    "#[48, 0, 0, 0, 2, 2, 3, 8]\n",
    "#])\n",
    "\n",
    "#>ATM1\n",
    "#freq = np.array([\n",
    "#[327, 369, 198, 140, 180, 160, 596, 598, 0, 54, 86, 367, 407, 206, 139],\n",
    "#[82, 53, 249, 261, 120, 51, 2, 0, 600, 424, 4, 43, 72, 112, 181],\n",
    "#[86, 70, 47, 44, 188, 47, 1, 2, 0, 49, 510, 27, 2, 22, 68],\n",
    "#[105, 108, 106, 155, 112, 342, 1, 0, 0, 73, 0, 163, 119, 260, 212]\n",
    "#])\n",
    "\n",
    "#>zap\n",
    "freq = np.array([\n",
    "[169, 0, 0, 0, 0, 107, 169, 119, 0, 0, 0, 21, 119, 9, 46],\n",
    "[0, 279, 279, 97, 0, 77, 0, 17, 0, 0, 0, 97, 0, 17, 0],\n",
    "[0, 0, 0, 0, 0, 17, 0, 57, 279, 279, 0, 37, 57, 0, 198],\n",
    "[0, 0, 0, 107, 169, 0, 0, 0, 0, 0, 169, 58, 9, 145, 0]\n",
    "])\n",
    "\n",
    "PWM = freq / freq.sum(axis = 0)\n",
    "motif_length = 10 # à remplacer par taille de la matrice du motif d'interet\n",
    "num_sample = 100\n",
    "\n",
    "\n",
    "\n",
    "posTest, negTest  = createArtSequences(PWM, num_sample)\n",
    "\n"
   ]
  },
  {
   "attachments": {},
   "cell_type": "markdown",
   "metadata": {
    "id": "HO-OzXaaCELo"
   },
   "source": [
    "4.2 Recoder la fonction ``createFeatures`` pour créer un ensemble de features qui représentent bien le motif d'intérêt. Vous  pouvez utiliser autant de features qui vous souhaitez."
   ]
  },
  {
   "cell_type": "code",
   "execution_count": 2101,
   "metadata": {
    "id": "WsHgc3N7z6jG"
   },
   "outputs": [],
   "source": [
    "#def createFeatures(trainSeqs:list, num_sample=100):\n",
    "#  \"\"\"\n",
    "#  Create plusieurs features pour représenter le motif\n",
    "#  entrée trainSeqs : list de séquences d'entrainement\n",
    "#  entrée num_sample : nombre d'échantillons \n",
    "#  sortie X : numpy array contenant plusieurs features pour chaque séquence\n",
    "#  \"\"\"\n",
    "#  dim = (num_sample, 8)\n",
    "#  X = np.zeros(dim)\n",
    "#  for i in range(num_sample):  \n",
    "#    X[i][0] = trainSeqs[i].count(\"CT\")\n",
    "#    X[i][1] = trainSeqs[i].count(\"CA\")\n",
    "#    X[i][2] = trainSeqs[i].count(\"CG\")\n",
    "#    X[i][3] = trainSeqs[i].count(\"TT\")\n",
    "#    X[i][4] = trainSeqs[i].count(\"GG\")\n",
    "#    X[i][5] = trainSeqs[i].count(\"AG\")\n",
    "#    X[i][6] = trainSeqs[i].count(\"TG\")\n",
    "#    X[i][7] = trainSeqs[i].count(\"AT\")\n",
    "#  #print(X)\n",
    "#      \n",
    "#  return X\n",
    "\n",
    "def createFeatures(trainSeqs:list, num_sample=100):\n",
    "  \"\"\"\n",
    "  Create plusieurs features pour représenter le motif\n",
    "  entrée trainSeqs : list de séquences d'entrainement\n",
    "  entrée num_sample : nombre d'échantillons \n",
    "  sortie X : numpy array contenant plusieurs features pour chaque séquence\n",
    "  \"\"\"\n",
    "  dim = (num_sample, 8)\n",
    "  X = np.zeros(dim)\n",
    "  for i in range(num_sample):  \n",
    "    X[i][0] = trainSeqs[i].count(\"CC\")\n",
    "    X[i][1] = trainSeqs[i].count(\"TT\")\n",
    "    X[i][2] = trainSeqs[i].count(\"NA\")\n",
    "    X[i][3] = trainSeqs[i].count(\"GG\")\n",
    "    X[i][4] = trainSeqs[i].count(\"GT\")\n",
    "    X[i][5] = trainSeqs[i].count(\"CCTT\")\n",
    "    X[i][6] = trainSeqs[i].count(\"NAG\")\n",
    "    X[i][7] = trainSeqs[i].count(\"GGT\")\n",
    "  #print(X)\n",
    "      \n",
    "  return X\n"
   ]
  },
  {
   "cell_type": "code",
   "execution_count": 2102,
   "metadata": {
    "id": "CRvVZb2_z7np"
   },
   "outputs": [],
   "source": [
    "Xpos = createFeatures(pos)\n",
    "Xneg = createFeatures(neg)\n",
    "X = np.vstack((Xpos, Xneg))\n",
    "\n",
    "min_val = np.min(X)\n",
    "max_val = np.max(X)\n",
    "if max_val - min_val == 0:\n",
    "    X_norm = np.zeros(X.shape)\n",
    "else:\n",
    "    X_norm = (X - min_val) / (max_val - min_val)\n",
    "\n",
    "\n",
    "X = x_norm"
   ]
  },
  {
   "cell_type": "code",
   "execution_count": 2103,
   "metadata": {
    "id": "h2_kAQPYWu55"
   },
   "outputs": [
    {
     "data": {
      "text/plain": [
       "(200, 1)"
      ]
     },
     "execution_count": 2103,
     "metadata": {},
     "output_type": "execute_result"
    }
   ],
   "source": [
    "yTest = np.concatenate((np.ones(num_sample), np.zeros(num_sample)))\n",
    "yTest = yTest.reshape((yTest.shape[0], 1))\n",
    "y.shape"
   ]
  },
  {
   "attachments": {},
   "cell_type": "markdown",
   "metadata": {
    "id": "7LNh55CADEq2"
   },
   "source": [
    "4.4 Réentraîner le modèle et ajuster les paramètres à fin d'obtenir la meilleure performance."
   ]
  },
  {
   "cell_type": "code",
   "execution_count": 2104,
   "metadata": {
    "id": "oK6MJAvkECp4"
   },
   "outputs": [
    {
     "data": {
      "image/png": "[encoded data removed]",
      "text/plain": [
       "<Figure size 640x480 with 1 Axes>"
      ]
     },
     "metadata": {},
     "output_type": "display_data"
    },
    {
     "name": "stdout",
     "output_type": "stream",
     "text": [
      "0.86\n"
     ]
    }
   ],
   "source": [
    "W, b, Loss = backPropagation(X, y, 0.9, nb_iter)\n",
    "\n",
    "plt.plot(Loss)\n",
    "plt.show()\n",
    "print(accuracy_score(y, y_pred))\n"
   ]
  },
  {
   "attachments": {},
   "cell_type": "markdown",
   "metadata": {
    "id": "O5J-eHZIC5Nv"
   },
   "source": [
    "4.5 Lire votre fichier et charger les séquences."
   ]
  },
  {
   "cell_type": "code",
   "execution_count": 2105,
   "metadata": {
    "id": "8lhMiYmJ0zI8"
   },
   "outputs": [
    {
     "name": "stdout",
     "output_type": "stream",
     "text": [
      "CCGCTCTCCTGCACTCCTCCAGCGCAGCAAGGAACTCCTTGGGGTTGGCACCGGAGAGCTCCTTCAGGATGGTCCCGTTCCTGATCAGCACGAAGTATGGCACCGCGCTTATCTCAAACAGCTCAGCTATCTCAGCCTGCTCGTCCGCATCCACCGCCAAGAACGACACGTCCTTGTTCGACTCGTCTTCGCTTATAGCCCGGTACAACTCGCTGATGGCCTTGCAGGGCTCCGCCCACGAGGTGTGGAAATATATAGCAATCAGCTTGTCCTGCACATTCTGCGTAGTCAGCTCCGTAAACTGGTCCTGGTTCGTAATCTCAGCAACCATATTCCTCTTCAAAAAGTGTCTCCTGCCTTCGATTTCCCTCCTTCCCCCCTCCATTGCCCCCCACCATCACTGCCAGACTCTCAACTGGTCCCTATTTATACTGCCCGATGAGCTCGGATTACAAAGGATTTAGAAGCGATCCCACCGTCGTACAAGATAATGGTAGCTGTGGGGGGGGGGTGTGTCTCGGTCTCAGCCAATCACCGTCGAGTGCATTACTAATCGCCACCATCGACAGCCAACTGTACAGCCCATCGCCACAGCCCATCGCCCCCATCGCCACACTTAGTTGTGTTGTAATTGTATCTGAAGTTGTAGTACTTGTGTTCCTGGTTTGCTGGTTTGCTTGGTTTGTCGGTGTATCTGCAGTTGTGTATTTGCAGGTCTGTGACTTGCACCCAGACATCATGTACTTCCCCCCCCCCCCAAATTCCAAAATTCCAATACAAATCCTCTTCTCCTGCGGAATCTCCTATTTAGGAAATCTTGGTGTTTCTGCATTTGCAAGTGTATCCCTTGGTACGTGTTCATGTGTATCCCGTGTATCAGTACCTTGATTCCCTCCCCCCCATCGAAAATGCAAAAAAAAATTTTTTAGCGAAATAAAAAGGGCATCGCTGCCTTGTTAGCTATTGCTAGCTATTGCTAGTTTCCTTGTCGTTGTTATATAAAAAGAACCACGGATTAAATATCTTTATTTGGTGAGTAAGACGCATTTAT\n"
     ]
    }
   ],
   "source": [
    "def readFasta(genome):\n",
    "    sequence = []\n",
    "    file = open(genome, \"r\")\n",
    "    sequences = []\n",
    "    seq = \"\"\n",
    "    for s in file:\n",
    "        if s[0] != \">\":\n",
    "            seq += s.strip().upper()\n",
    "        else:\n",
    "            sequences.append(seq)\n",
    "            seq = \"\"\n",
    "    return sequences[1:]\n",
    "genome = \"Sequence_by_Peaks_3.fasta\"\n",
    "sequence = readFasta(genome)[0]\n",
    "print(sequence)"
   ]
  },
  {
   "attachments": {},
   "cell_type": "markdown",
   "metadata": {
    "id": "_AY6wWUWDXeu"
   },
   "source": [
    "4.6 Faire une fonction pour parcourir votre séquence et conter combien de fois le modèle prédire le motif, exprimer en pourcentage."
   ]
  },
  {
   "cell_type": "code",
   "execution_count": 2106,
   "metadata": {
    "id": "8CKHHvz21ePg"
   },
   "outputs": [
    {
     "name": "stdout",
     "output_type": "stream",
     "text": [
      "0.23563218390804597\n"
     ]
    }
   ],
   "source": [
    "def seqToMatrix(sequence, motif_length):\n",
    "    n = len(sequence) - motif_length + 1\n",
    "    matrix = np.zeros((n, motif_length))\n",
    "    for i in range(n):\n",
    "        sub_seq = sequence[i:i+motif_length]\n",
    "        for nucleotide in sub_seq:\n",
    "            if nucleotide == 'A':\n",
    "                matrix[i, 0] += 1\n",
    "            elif nucleotide == 'C':\n",
    "                matrix[i, 1] += 1\n",
    "            elif nucleotide == 'G':\n",
    "                matrix[i, 2] += 1\n",
    "            elif nucleotide == 'T':\n",
    "                matrix[i, 3] += 1\n",
    "\n",
    "    return matrix\n",
    "\n",
    "def predireMotif(sequence, motif_length, W, b):\n",
    "    \"\"\"\n",
    "    Prédire les positions des motifs et calculer le pourcentage d'apparition du motif.\n",
    "    entrée sequence : sequence de nucleotides \n",
    "    entrée motif_length : taille du motif\n",
    "    entrée W: matrice de poids W\n",
    "    entrée b: bias\n",
    "    sortie perc : pourcentage d'aparission du motif\n",
    "\n",
    "    \"\"\"\n",
    "    countMotif = 0\n",
    "    countTotal = len(sequence) - motif_length + 1\n",
    "    #print(countTotal)\n",
    "    motifs = []\n",
    "    for i in range (countTotal) :\n",
    "        motif = sequence[i : i + motif_length]\n",
    "        motifs.append(motif)\n",
    "    feat = createFeatures(motifs, countTotal)\n",
    "    #print(feat)\n",
    "    pred = predict(feat, W, b)\n",
    "    #print(pred)\n",
    "    mod = model(feat, W, b)\n",
    "    #print(mod)\n",
    "    for j in range(countTotal):\n",
    "        if(pred[j]):\n",
    "            countMotif += 1\n",
    "            #print(motifs[j], mod[j])\n",
    "    \n",
    "    return countMotif / countTotal\n",
    "\n",
    "sequence = \"CCGCTCTCCTGCACTCCTCCAGCGCAGCAAGGAACTCCTTGGGGTTGGCACCGGAGAGCTCCTTCAGGATGGTCCCGTTCCTGATCAGCACGAAGTATGGCACCGCGCTTATCTCAAACAGCTCAGCTATCTCAGCCTGCTCGTCCGCATCCACCGCCAAGAACGACACGTCCTTGTTCGACTCGTCTTCGCTTATAGCCCGGTACAACTCGCTGATGGCCTTGCAGGGCTCCGCCCACGAGGTGTGGAAATATATAGCAATCAGCTTGTCCTGCACATTCTGCGTAGTCAGCTCCGTAAACTGGTCCTGGTTCGTAATCTCAGCAACCATATTCCTCTTCAAAAAGTGTCTCCTGCCTTCGATTTCCCTCCTTCCCCCCTCCATTGCCCCCCACCATCACTGCCAGACTCTCAACTGGTCCCTATTTATACTGCCCGATGAGCTCGGATTACAAAGGATTTAGAAGCGATCCCACCGTCGTACAAGATAATGGTAGCTGTGGGGGGGGGGTGTGTCTCGGTCTCAGCCAATCACCGTCGAGTGCATTACTAATCGCCACCATCGACAGCCAACTGTACAGCCCATCGCCACAGCCCATCGCCCCCATCGCCACACTTAGTTGTGTTGTAATTGTATCTGAAGTTGTAGTACTTGTGTTCCTGGTTTGCTGGTTTGCTTGGTTTGTCGGTGTATCTGCAGTTGTGTATTTGCAGGTCTGTGACTTGCACCCAGACATCATGTACTTCCCCCCCCCCCCAAATTCCAAAATTCCAATACAAATCCTCTTCTCCTGCGGAATCTCCTATTTAGGAAATCTTGGTGTTTCTGCATTTGCAAGTGTATCCCTTGGTACGTGTTCATGTGTATCCCGTGTATCAGTACCTTGATTCCCTCCCCCCCATCGAAAATGCAAAAAAAAATTTTTTAGCGAAATAAAAAGGGCATCGCTGCCTTGTTAGCTATTGCTAGCTATTGCTAGTTTCCTTGTCGTTGTTATATAAAAAGAACCACGGATTAAATATCTTTATTTGGTGAGTAAGACGCATTTAT\"\n",
    "percMotif = predireMotif(sequence, motif_length, W, b)\n",
    "print(percMotif)"
   ]
  },
  {
   "attachments": {},
   "cell_type": "markdown",
   "metadata": {
    "id": "DUZefMwa195Z"
   },
   "source": [
    "4.7 Pour contrôler que le pourcentage d'apparition du motif d'intérêt et pas du au hasard, entraîner un modèle avec un autre motif et vérifier si le pourcentage du motif d'intérêt est supérieur."
   ]
  },
  {
   "cell_type": "code",
   "execution_count": 2107,
   "metadata": {
    "id": "MjOAIDIK20bP"
   },
   "outputs": [
    {
     "name": "stdout",
     "output_type": "stream",
     "text": [
      "0.43007662835249044\n"
     ]
    }
   ],
   "source": [
    "#sequence = 'ACGTACGTACGTACGT'\n",
    "sequence = \"CCGCTCTCCTGCACTCCTCCAGCGCAGCAAGGAACTCCTTGGGGTTGGCACCGGAGAGCTCCTTCAGGATGGTCCCGTTCCTGATCAGCACGAAGTATGGCACCGCGCTTATCTCAAACAGCTCAGCTATCTCAGCCTGCTCGTCCGCATCCACCGCCAAGAACGACACGTCCTTGTTCGACTCGTCTTCGCTTATAGCCCGGTACAACTCGCTGATGGCCTTGCAGGGCTCCGCCCACGAGGTGTGGAAATATATAGCAATCAGCTTGTCCTGCACATTCTGCGTAGTCAGCTCCGTAAACTGGTCCTGGTTCGTAATCTCAGCAACCATATTCCTCTTCAAAAAGTGTCTCCTGCCTTCGATTTCCCTCCTTCCCCCCTCCATTGCCCCCCACCATCACTGCCAGACTCTCAACTGGTCCCTATTTATACTGCCCGATGAGCTCGGATTACAAAGGATTTAGAAGCGATCCCACCGTCGTACAAGATAATGGTAGCTGTGGGGGGGGGGTGTGTCTCGGTCTCAGCCAATCACCGTCGAGTGCATTACTAATCGCCACCATCGACAGCCAACTGTACAGCCCATCGCCACAGCCCATCGCCCCCATCGCCACACTTAGTTGTGTTGTAATTGTATCTGAAGTTGTAGTACTTGTGTTCCTGGTTTGCTGGTTTGCTTGGTTTGTCGGTGTATCTGCAGTTGTGTATTTGCAGGTCTGTGACTTGCACCCAGACATCATGTACTTCCCCCCCCCCCCAAATTCCAAAATTCCAATACAAATCCTCTTCTCCTGCGGAATCTCCTATTTAGGAAATCTTGGTGTTTCTGCATTTGCAAGTGTATCCCTTGGTACGTGTTCATGTGTATCCCGTGTATCAGTACCTTGATTCCCTCCCCCCCATCGAAAATGCAAAAAAAAATTTTTTAGCGAAATAAAAAGGGCATCGCTGCCTTGTTAGCTATTGCTAGCTATTGCTAGTTTCCTTGTCGTTGTTATATAAAAAGAACCACGGATTAAATATCTTTATTTGGTGAGTAAGACGCATTTAT\"\n",
    "motif_length = 8\n",
    "W = np.array([[0.11060712], [-0.00053392], [0.00278149], [0.91824518], [0.72824011], [-0.00256310], [0.92280085], [0.11111111]])\n",
    "b = np.array([-0.06332915])\n",
    "percMotif = predireMotif(sequence, motif_length, W, b)\n",
    "print(percMotif)\n"
   ]
  }
 ],
 "metadata": {
  "colab": {
   "provenance": []
  },
  "kernelspec": {
   "display_name": "Python 3",
   "language": "python",
   "name": "python3"
  },
  "language_info": {
   "codemirror_mode": {
    "name": "ipython",
    "version": 3
   },
   "file_extension": ".py",
   "mimetype": "text/x-python",
   "name": "python",
   "nbconvert_exporter": "python",
   "pygments_lexer": "ipython3",
   "version": "3.11.3"
  },
  "vscode": {
   "interpreter": {
    "hash": "f5d60dadaadefcdc8ea71f1b2a7d61f81b140c3ffed39f6be6e95efa72c685b2"
   }
  }
 },
 "nbformat": 4,
 "nbformat_minor": 1
}
